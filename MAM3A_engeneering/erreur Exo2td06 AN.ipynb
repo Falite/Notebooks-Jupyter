{
 "cells": [
  {
   "cell_type": "markdown",
   "metadata": {
    "tags": []
   },
   "source": [
    "#### erreur Exo2 TD06 AN"
   ]
  },
  {
   "cell_type": "markdown",
   "metadata": {},
   "source": [
    "we have $f(x)=\\frac 1{x-\\alpha}~~\\alpha \\in \\mathbb{R}~~ |\\alpha | >1~~$    \n",
    "          \n",
    "we note $n \\in \\mathbb{N},~~~P_n$ the the Lagrange interpolation polynomial of f       \n",
    "               \n",
    "we have the mark-up $|f(x)-P_n(x)| \\leq \\frac{2^{n+1}}{(\\alpha-1)^{n+2}},\\forall x \\in [-1,1] $            \n",
    "         \n",
    "we want to find the maximum number n such that the error is less than $10^{-6}$"
   ]
  },
  {
   "cell_type": "code",
   "execution_count": 1,
   "metadata": {},
   "outputs": [],
   "source": [
    "import numpy as np\n",
    "import matplotlib as plt"
   ]
  },
  {
   "cell_type": "code",
   "execution_count": 2,
   "metadata": {},
   "outputs": [],
   "source": [
    "def u(n):\n",
    "    return 2**(n+1)/3**(n+2)"
   ]
  },
  {
   "cell_type": "code",
   "execution_count": 5,
   "metadata": {},
   "outputs": [
    {
     "name": "stdout",
     "output_type": "stream",
     "text": [
      "error for n= 0 , 0.2222222\n",
      "error for n= 1 , 0.1481481\n",
      "error for n= 2 , 0.0987654\n",
      "error for n= 3 , 0.0658436\n",
      "error for n= 4 , 0.0438957\n",
      "error for n= 5 , 0.0292638\n",
      "error for n= 6 , 0.0195092\n",
      "error for n= 7 , 0.0130061\n",
      "error for n= 8 , 0.0086708\n",
      "error for n= 9 , 0.0057805\n",
      "error for n= 10 , 0.0038537\n",
      "error for n= 11 , 0.0025691\n",
      "error for n= 12 , 0.0017127\n",
      "error for n= 13 , 0.0011418\n",
      "error for n= 14 , 0.0007612\n",
      "error for n= 15 , 0.0005075\n",
      "error for n= 16 , 0.0003383\n",
      "error for n= 17 , 0.0002255\n",
      "error for n= 18 , 0.0001504\n",
      "error for n= 19 , 0.0001002\n",
      "error for n= 20 , 6.68e-05\n",
      "error for n= 21 , 4.46e-05\n",
      "error for n= 22 , 2.97e-05\n",
      "error for n= 23 , 1.98e-05\n",
      "error for n= 24 , 1.32e-05\n",
      "error for n= 25 , 8.8e-06\n",
      "error for n= 26 , 5.9e-06\n",
      "error for n= 27 , 3.9e-06\n",
      "error for n= 28 , 2.6e-06\n",
      "error for n= 29 , 1.7e-06\n",
      "error for n= 30 , 1.2e-06\n",
      "error for n= 31 , 8e-07\n",
      "error for n= 32 , 5e-07\n",
      "error for n= 33 , 3e-07\n",
      "error for n= 34 , 2e-07\n",
      "error for n= 35 , 2e-07\n",
      "error for n= 36 , 1e-07\n",
      "error for n= 37 , 1e-07\n",
      "error for n= 38 , 0.0\n",
      "error for n= 39 , 0.0\n"
     ]
    }
   ],
   "source": [
    "for i in range(40):\n",
    "    print(\"error for n=\",i,\",\",round(u(i),7))"
   ]
  }
 ],
 "metadata": {
  "kernelspec": {
   "display_name": "Python 3 (ipykernel)",
   "language": "python",
   "name": "python3"
  },
  "language_info": {
   "codemirror_mode": {
    "name": "ipython",
    "version": 3
   },
   "file_extension": ".py",
   "mimetype": "text/x-python",
   "name": "python",
   "nbconvert_exporter": "python",
   "pygments_lexer": "ipython3",
   "version": "3.11.5"
  }
 },
 "nbformat": 4,
 "nbformat_minor": 4
}
