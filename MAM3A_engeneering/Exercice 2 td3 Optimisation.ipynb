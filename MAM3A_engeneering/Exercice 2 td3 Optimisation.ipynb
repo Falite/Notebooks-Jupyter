{
 "cells": [
  {
   "cell_type": "code",
   "execution_count": 1,
   "id": "11a5449e-67cb-48a7-97c1-bd11653c93da",
   "metadata": {
    "tags": []
   },
   "outputs": [],
   "source": [
    "import numpy as np"
   ]
  },
  {
   "cell_type": "code",
   "execution_count": 3,
   "id": "22dc1ebf-ae1d-478c-b63c-270c894c2348",
   "metadata": {
    "tags": []
   },
   "outputs": [],
   "source": [
    "A = np.array(\n",
    "    [[0,2],\n",
    "      [2,2]])"
   ]
  },
  {
   "cell_type": "code",
   "execution_count": 7,
   "id": "88c0e3fe-2e32-4d1f-b826-4fed01a8a5ab",
   "metadata": {
    "tags": []
   },
   "outputs": [],
   "source": [
    "valpropresA = np.linalg.eig(A)[0]"
   ]
  },
  {
   "cell_type": "code",
   "execution_count": 8,
   "id": "cace5eb2-ac1a-468f-8d7b-b989e5dfb924",
   "metadata": {
    "tags": []
   },
   "outputs": [
    {
     "name": "stdout",
     "output_type": "stream",
     "text": [
      "False\n",
      "True\n"
     ]
    }
   ],
   "source": [
    "for i in [0,1]:\n",
    "    print(valpropresA[i]>0)"
   ]
  }
 ],
 "metadata": {
  "kernelspec": {
   "display_name": "Python 3 (ipykernel)",
   "language": "python",
   "name": "python3"
  },
  "language_info": {
   "codemirror_mode": {
    "name": "ipython",
    "version": 3
   },
   "file_extension": ".py",
   "mimetype": "text/x-python",
   "name": "python",
   "nbconvert_exporter": "python",
   "pygments_lexer": "ipython3",
   "version": "3.11.5"
  }
 },
 "nbformat": 4,
 "nbformat_minor": 5
}
