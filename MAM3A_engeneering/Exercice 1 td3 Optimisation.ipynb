{
 "cells": [
  {
   "cell_type": "markdown",
   "id": "94b3f02e-a91a-43c8-9014-b3eef100f1a0",
   "metadata": {
    "tags": []
   },
   "source": [
    "# Exercice 1 TD03 Optimisation"
   ]
  },
  {
   "cell_type": "markdown",
   "id": "d32e6869-a4b2-44bd-ad85-c953f8dc24f9",
   "metadata": {},
   "source": [
    "on a \n",
    "$A= \\begin{pmatrix} 2&-2&0 \\\\ -2 & 4 & -1 \\\\ 0 & -1 & 2 \\\\ \\end{pmatrix}$                 \n",
    "et on veut montrer qu'il est SDP"
   ]
  },
  {
   "cell_type": "markdown",
   "id": "daefb6c9-57ed-486e-baff-51db918fdd02",
   "metadata": {},
   "source": [
    "On écrit ses sous matrices principales :            \n",
    "$A_1=2$       \n",
    "$A_2= \\begin{pmatrix} 2 & -2 \\\\ -2 & 4 \\\\\\end{pmatrix} $        \n",
    "$A_3=A$"
   ]
  },
  {
   "cell_type": "code",
   "execution_count": 1,
   "id": "4c24cf11-152f-46f6-8ee3-fa3118bdc9b8",
   "metadata": {
    "tags": []
   },
   "outputs": [],
   "source": [
    "import numpy as np"
   ]
  },
  {
   "cell_type": "code",
   "execution_count": 44,
   "id": "74a70094-44b4-46a9-bbb0-4b19e97fbe8f",
   "metadata": {
    "tags": []
   },
   "outputs": [],
   "source": [
    "A = np.array(\n",
    "    [[2 , -2 , 0],\n",
    "    [-2 , 4 , -1 ],\n",
    "    [0, -1, 2]] )"
   ]
  },
  {
   "cell_type": "code",
   "execution_count": 4,
   "id": "d32fb172-f176-4ee4-9205-fbbf86eee32b",
   "metadata": {
    "tags": []
   },
   "outputs": [],
   "source": [
    "A2 = np.array ( \n",
    "    [[2, -2],\n",
    "     [-2, 4 ]] )"
   ]
  },
  {
   "cell_type": "markdown",
   "id": "e07c33dc-8db4-450c-bd29-b3f44d82db0d",
   "metadata": {},
   "source": [
    "#### par le critère de Sylvester : "
   ]
  },
  {
   "cell_type": "code",
   "execution_count": 10,
   "id": "579c4d6b-f913-4431-ba8a-1ef509aa0ed4",
   "metadata": {
    "tags": []
   },
   "outputs": [
    {
     "data": {
      "text/plain": [
       "True"
      ]
     },
     "execution_count": 10,
     "metadata": {},
     "output_type": "execute_result"
    }
   ],
   "source": [
    "(2>0) & (np.linalg.det(A2)>0) & (np.linalg.det(A)>0)"
   ]
  },
  {
   "cell_type": "markdown",
   "id": "8e853811-6ed2-4a79-add6-ecbad60a5856",
   "metadata": {},
   "source": [
    "#### par les valeurs propres :"
   ]
  },
  {
   "cell_type": "code",
   "execution_count": 16,
   "id": "a85d307a-f667-41df-90c5-84b0153b7ca4",
   "metadata": {
    "tags": []
   },
   "outputs": [],
   "source": [
    "valpropreA = np.linalg.eig(A)[0]"
   ]
  },
  {
   "cell_type": "code",
   "execution_count": 27,
   "id": "45c23d47-ac79-41d0-93ec-3b80c80123b2",
   "metadata": {
    "tags": []
   },
   "outputs": [
    {
     "name": "stdout",
     "output_type": "stream",
     "text": [
      "True\n",
      "True\n",
      "True\n"
     ]
    }
   ],
   "source": [
    "for i in range(3) :\n",
    "    print(valpropreA[i]>0)"
   ]
  },
  {
   "cell_type": "markdown",
   "id": "b1b6f9c4-ef37-44a5-a6e8-89121af4e05c",
   "metadata": {},
   "source": [
    "#### on veut ensuite résoudre $Ax^*+b=c$            \n",
    "avec $b=\\begin{pmatrix} 0 \\\\ -4 \\\\ 0 \\\\ \\end{pmatrix} $ et $ c= \\begin{pmatrix} 0 \\\\ 0 \\\\ 0 \\end{pmatrix}$ pour trouver le minimum global"
   ]
  },
  {
   "cell_type": "code",
   "execution_count": 46,
   "id": "9dc26762-3573-4d6c-8fbd-d18f3f8303b0",
   "metadata": {
    "tags": []
   },
   "outputs": [],
   "source": [
    "b = np.array(\n",
    "    [[0] , [4] , [0]])"
   ]
  },
  {
   "cell_type": "code",
   "execution_count": 47,
   "id": "6c9a205a-669b-400a-8aa7-3100b2822168",
   "metadata": {
    "tags": []
   },
   "outputs": [
    {
     "data": {
      "text/plain": [
       "array([[0],\n",
       "       [4],\n",
       "       [0]])"
      ]
     },
     "execution_count": 47,
     "metadata": {},
     "output_type": "execute_result"
    }
   ],
   "source": [
    "b"
   ]
  },
  {
   "cell_type": "code",
   "execution_count": 48,
   "id": "a81e887b-3047-424a-b566-13048d5a1a54",
   "metadata": {
    "tags": []
   },
   "outputs": [
    {
     "data": {
      "text/plain": [
       "array([[2.66666667],\n",
       "       [2.66666667],\n",
       "       [1.33333333]])"
      ]
     },
     "execution_count": 48,
     "metadata": {},
     "output_type": "execute_result"
    }
   ],
   "source": [
    "np.linalg.solve(A,b)"
   ]
  },
  {
   "cell_type": "markdown",
   "id": "6e57336a-4133-41fe-bea9-7c13156241b5",
   "metadata": {},
   "source": [
    "c'est un point de minimum local "
   ]
  },
  {
   "cell_type": "code",
   "execution_count": null,
   "id": "458b38c1-4d97-4f57-9b08-e5088ee8cad2",
   "metadata": {},
   "outputs": [],
   "source": []
  }
 ],
 "metadata": {
  "kernelspec": {
   "display_name": "Python 3 (ipykernel)",
   "language": "python",
   "name": "python3"
  },
  "language_info": {
   "codemirror_mode": {
    "name": "ipython",
    "version": 3
   },
   "file_extension": ".py",
   "mimetype": "text/x-python",
   "name": "python",
   "nbconvert_exporter": "python",
   "pygments_lexer": "ipython3",
   "version": "3.11.5"
  }
 },
 "nbformat": 4,
 "nbformat_minor": 5
}
