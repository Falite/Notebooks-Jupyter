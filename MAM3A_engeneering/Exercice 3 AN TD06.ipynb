{
 "cells": [
  {
   "cell_type": "markdown",
   "metadata": {
    "tags": []
   },
   "source": [
    "#### Exercice 3 AN TD06"
   ]
  },
  {
   "cell_type": "markdown",
   "metadata": {},
   "source": [
    "we have this table showing the observed speed in relation to time"
   ]
  },
  {
   "cell_type": "code",
   "execution_count": 8,
   "metadata": {
    "tags": []
   },
   "outputs": [
    {
     "name": "stdout",
     "output_type": "stream",
     "text": [
      "  t    v\n",
      "---  ---\n",
      "  0  2.5\n",
      " 10  2\n",
      " 20  1.7\n",
      " 30  1.2\n"
     ]
    }
   ],
   "source": [
    "from tabulate import tabulate\n",
    "print(tabulate([[\"t\",\"v\"],[0,2.5],[10,2],[20,1.7],[30,1.2]],headers=\"firstrow\"))"
   ]
  },
  {
   "cell_type": "markdown",
   "metadata": {},
   "source": [
    "we want to find a polynomial approximation in the sense of discrete least squares by a polynomial , of different degree each time"
   ]
  },
  {
   "cell_type": "code",
   "execution_count": 3,
   "metadata": {},
   "outputs": [],
   "source": [
    "import numpy as np\n",
    "import sympy as sp"
   ]
  },
  {
   "cell_type": "code",
   "execution_count": 62,
   "metadata": {},
   "outputs": [
    {
     "data": {
      "text/latex": [
       "$\\displaystyle \\left[\\begin{matrix}1\\\\t\\\\t^{2}\\\\t^{3}\\end{matrix}\\right]$"
      ],
      "text/plain": [
       "Matrix([\n",
       "[   1],\n",
       "[   t],\n",
       "[t**2],\n",
       "[t**3]])"
      ]
     },
     "execution_count": 62,
     "metadata": {},
     "output_type": "execute_result"
    }
   ],
   "source": [
    "t = sp.symbols('t')\n",
    "T1=sp.Matrix([[1],[t]])\n",
    "T1\n",
    "T2=sp.Matrix([[1],[t],[t**2]])\n",
    "T2\n",
    "T3=sp.Matrix([[1],[t],[t**2],[t**3]])\n",
    "T3"
   ]
  },
  {
   "cell_type": "markdown",
   "metadata": {},
   "source": [
    "#### a) of degree less than 1"
   ]
  },
  {
   "cell_type": "code",
   "execution_count": 82,
   "metadata": {},
   "outputs": [
    {
     "name": "stdout",
     "output_type": "stream",
     "text": [
      "[[2.5]\n",
      " [2. ]\n",
      " [1.7]\n",
      " [1.2]] [[ 1  0]\n",
      " [ 1 10]\n",
      " [ 1 20]\n",
      " [ 1 30]]\n"
     ]
    }
   ],
   "source": [
    "B=np.array([[1,0],[1,10],[1,20],[1,30]])\n",
    "\n",
    "\n",
    "Y=(np.array([[2.5],[2],[1.7],[1.2]]))\n",
    "\n",
    "\n",
    "print(Y,B)"
   ]
  },
  {
   "cell_type": "code",
   "execution_count": 83,
   "metadata": {},
   "outputs": [
    {
     "data": {
      "text/plain": [
       "array([[ 1,  1,  1,  1],\n",
       "       [ 0, 10, 20, 30]])"
      ]
     },
     "execution_count": 83,
     "metadata": {},
     "output_type": "execute_result"
    }
   ],
   "source": [
    "BT=np.transpose(B)\n",
    "BT"
   ]
  },
  {
   "cell_type": "code",
   "execution_count": 84,
   "metadata": {},
   "outputs": [
    {
     "data": {
      "text/plain": [
       "array([[   4,   60],\n",
       "       [  60, 1400]])"
      ]
     },
     "execution_count": 84,
     "metadata": {},
     "output_type": "execute_result"
    }
   ],
   "source": [
    "BT@B"
   ]
  },
  {
   "cell_type": "code",
   "execution_count": 85,
   "metadata": {},
   "outputs": [
    {
     "data": {
      "text/plain": [
       "array([[ 7.4],\n",
       "       [90. ]])"
      ]
     },
     "execution_count": 85,
     "metadata": {},
     "output_type": "execute_result"
    }
   ],
   "source": [
    "BT@Y"
   ]
  },
  {
   "cell_type": "code",
   "execution_count": 86,
   "metadata": {},
   "outputs": [
    {
     "data": {
      "text/latex": [
       "$\\displaystyle \\left[\\begin{matrix}2.48 - 0.042 t\\end{matrix}\\right]$"
      ],
      "text/plain": [
       "Matrix([[2.48 - 0.042*t]])"
      ]
     },
     "execution_count": 86,
     "metadata": {},
     "output_type": "execute_result"
    }
   ],
   "source": [
    "np.transpose(np.linalg.solve(BT@B,BT@Y))@T1"
   ]
  },
  {
   "cell_type": "markdown",
   "metadata": {},
   "source": [
    "#### b) of degree less than 2"
   ]
  },
  {
   "cell_type": "code",
   "execution_count": 87,
   "metadata": {},
   "outputs": [
    {
     "data": {
      "text/plain": [
       "array([[  1,   0,   0],\n",
       "       [  1,  10, 100],\n",
       "       [  1,  20, 400],\n",
       "       [  1,  30, 900]])"
      ]
     },
     "execution_count": 87,
     "metadata": {},
     "output_type": "execute_result"
    }
   ],
   "source": [
    "B=np.array([[1,0,0],[1,10,100],[1,20,400],[1,30,900]])\n",
    "B"
   ]
  },
  {
   "cell_type": "code",
   "execution_count": 88,
   "metadata": {},
   "outputs": [
    {
     "data": {
      "text/plain": [
       "array([[  1,   1,   1,   1],\n",
       "       [  0,  10,  20,  30],\n",
       "       [  0, 100, 400, 900]])"
      ]
     },
     "execution_count": 88,
     "metadata": {},
     "output_type": "execute_result"
    }
   ],
   "source": [
    "BT=np.transpose(B)\n",
    "BT"
   ]
  },
  {
   "cell_type": "code",
   "execution_count": 89,
   "metadata": {},
   "outputs": [
    {
     "data": {
      "text/plain": [
       "array([[     4,     60,   1400],\n",
       "       [    60,   1400,  36000],\n",
       "       [  1400,  36000, 980000]])"
      ]
     },
     "execution_count": 89,
     "metadata": {},
     "output_type": "execute_result"
    }
   ],
   "source": [
    "BT@B"
   ]
  },
  {
   "cell_type": "code",
   "execution_count": 90,
   "metadata": {},
   "outputs": [
    {
     "data": {
      "text/latex": [
       "$\\displaystyle \\left[\\begin{matrix}1.49880108324396 \\cdot 10^{-18} t^{2} - 0.0420000000000001 t + 2.48\\end{matrix}\\right]$"
      ],
      "text/plain": [
       "Matrix([[1.49880108324396e-18*t**2 - 0.0420000000000001*t + 2.48]])"
      ]
     },
     "execution_count": 90,
     "metadata": {},
     "output_type": "execute_result"
    }
   ],
   "source": [
    "np.transpose(np.linalg.solve(BT@B,BT@Y))@T2"
   ]
  },
  {
   "cell_type": "markdown",
   "metadata": {},
   "source": [
    "#### c) of degree less than 3"
   ]
  },
  {
   "cell_type": "code",
   "execution_count": 91,
   "metadata": {},
   "outputs": [
    {
     "data": {
      "text/plain": [
       "array([[    1,     0,     0,     0],\n",
       "       [    1,    10,   100,  1000],\n",
       "       [    1,    20,   200,  8000],\n",
       "       [    1,    30,   900, 27000]])"
      ]
     },
     "execution_count": 91,
     "metadata": {},
     "output_type": "execute_result"
    }
   ],
   "source": [
    "B=np.array([[1,0,0,0],[1,10,100,1000],[1,20,200,20**3],[1,30,900,30**3]])\n",
    "B"
   ]
  },
  {
   "cell_type": "code",
   "execution_count": 92,
   "metadata": {},
   "outputs": [
    {
     "data": {
      "text/plain": [
       "array([[    1,     1,     1,     1],\n",
       "       [    0,    10,    20,    30],\n",
       "       [    0,   100,   200,   900],\n",
       "       [    0,  1000,  8000, 27000]])"
      ]
     },
     "execution_count": 92,
     "metadata": {},
     "output_type": "execute_result"
    }
   ],
   "source": [
    "BT=np.transpose(B)\n",
    "BT"
   ]
  },
  {
   "cell_type": "code",
   "execution_count": 96,
   "metadata": {},
   "outputs": [
    {
     "name": "stdout",
     "output_type": "stream",
     "text": [
      "Q(t)= Matrix([[3.33333333333334e-5*t**3 - 0.000999999999999999*t**2 - 0.0433333333333335*t + 2.5]])\n"
     ]
    }
   ],
   "source": [
    "print('Q(t)=', np.transpose(np.linalg.solve(BT@B,BT@Y))@T3)"
   ]
  }
 ],
 "metadata": {
  "kernelspec": {
   "display_name": "Python 3 (ipykernel)",
   "language": "python",
   "name": "python3"
  },
  "language_info": {
   "codemirror_mode": {
    "name": "ipython",
    "version": 3
   },
   "file_extension": ".py",
   "mimetype": "text/x-python",
   "name": "python",
   "nbconvert_exporter": "python",
   "pygments_lexer": "ipython3",
   "version": "3.11.5"
  }
 },
 "nbformat": 4,
 "nbformat_minor": 4
}
