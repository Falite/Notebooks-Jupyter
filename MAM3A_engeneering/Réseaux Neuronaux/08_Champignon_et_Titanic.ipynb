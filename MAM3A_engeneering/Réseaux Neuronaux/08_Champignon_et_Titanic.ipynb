{
 "cells": [
  {
   "cell_type": "markdown",
   "id": "exotic-sample",
   "metadata": {},
   "source": [
    "# Classification des champignons mortels aux survivants du Titanic\n",
    "\n",
    "Quel est le point commun entre une classe de champignon mortel et les survivants du titanic ?\n",
    "\n",
    "L'objectif de ce TP est de voir 2 réalistaion de classification à l'aide de réseaux de neuronne sur des données un peu plus massives ou un peu moins complètes...\n",
    "\n",
    "## Champignons mortels ?\n",
    "\n",
    "On regarde un ensemble de données qui comprend des descriptions d'échantillons correspondant à 23 espèces de champignons branchiaux de la famille des champignons Agaricus et Lepiota tirés du guide de terrain de la société Audubon sur les champignons nord-américains (1981). Chaque espèce est identifiée comme comestible,  vénéneuse, ou de comestibilité inconnue et déconseillée. Cette dernière classe a été combinée avec celle vénéneuse. Le Guide indique clairement qu'il n'y a pas de règle simple pour déterminer la comestibilité d'un champignon...\n",
    "\n",
    "Peut-on obtenir un modèle qui nous permettent de garantir et dans quelle mesure le caractère commestible d'un champignon.\n",
    "\n",
    "Pour cela nous agirons en 3 étapes :\n",
    "\n",
    "* Une analyse visuelle et quantitative des données (pairplot, matrice de corrélation, effectifs des individus, nuages de points 2d et 3d ...).\n",
    "* Une mise en place d'un modèle type réseau de neuronne, avec score et validation de modèle (on pourra utiliser différents métriques de score et da la validation par échantillonage ou k-fold cross validation).\n",
    "* A l'issue de ces éléments proposer (ou pas) une règle pour déterminer la comestibilité d'un champignon.\n",
    "\n",
    "Source : https://www.kaggle.com/uciml/mushroom-classification\n",
    "\n",
    "## Survivants du Titanic ?\n",
    "\n",
    "Le naufrage du Titanic est l'un des naufrages les plus tristement célèbres de l'histoire.\n",
    "\n",
    "Le 15 avril 1912, lors de son voyage inaugural, le RMS Titanic largement considéré comme \"insubmersible\" a coulé après être entré en collision avec un iceberg. Malheureusement, il n'y avait pas assez de canots de sauvetage pour tout le monde à bord, ce qui a entraîné la mort de 1502 des 2224 passagers et membres d'équipage.\n",
    "\n",
    "Bien qu'il y ait eu un élément de chance dans la survie, il semble que certains groupes de personnes étaient plus susceptibles de survivre que d'autres.\n",
    "\n",
    "Le but est de construire un modèle prédictif qui répond à la question : \"quels types de personnes étaient les plus susceptibles de survivre ?\" en utilisant les données des passagers (c'est-à-dire le nom, l'âge, le sexe, la classe socio-économique, etc.).\n",
    "\n",
    "Pour cela nous agirons en 3 étapes :\n",
    "\n",
    "* Une analyse visuelle et quantitative des données (pairplot, matrice de corrélation, effectifs des individus, nuages de points 2d et 3d ...).\n",
    "* Peut on compléter certaines données manquantes.\n",
    "* Une mise en place d'un modèle type réseau de neuronne, avec score et validation de modèle (on pourra utiliser différents métriques de score et da la validation par échantillonage ou k-fold cross validation).\n",
    "\n",
    "Ce problème est posé sous forme d'un chalenge sous [Kaggle](https://www.kaggle.com) avec un jeu de données sur lequel il faut prédire la survie des individus. \n",
    "\n",
    "A l'issue des vos prédiction faire une soumission de vos résultats sur la plateforme [Kaggle](https://www.kaggle.com) et obtenez votre score.\n",
    "\n",
    "Source : https://www.kaggle.com/c/titanic"
   ]
  }
 ],
 "metadata": {
  "kernelspec": {
   "display_name": "Python 3 (ipykernel)",
   "language": "python",
   "name": "python3"
  },
  "language_info": {
   "codemirror_mode": {
    "name": "ipython",
    "version": 3
   },
   "file_extension": ".py",
   "mimetype": "text/x-python",
   "name": "python",
   "nbconvert_exporter": "python",
   "pygments_lexer": "ipython3",
   "version": "3.10.8"
  }
 },
 "nbformat": 4,
 "nbformat_minor": 5
}
