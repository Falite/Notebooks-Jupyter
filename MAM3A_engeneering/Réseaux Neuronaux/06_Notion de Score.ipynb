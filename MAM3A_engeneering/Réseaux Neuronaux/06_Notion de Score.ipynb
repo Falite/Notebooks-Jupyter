{
 "cells": [
  {
   "cell_type": "markdown",
   "id": "20676290-b5da-446e-b3ac-b997e5ef611b",
   "metadata": {},
   "source": [
    "# Score\n",
    "\n",
    "Le terme \"score\" est généralement associé à la mesure de la performance d'un modèle de machine learning ou d'apprentissage profond. Le score est une évaluation quantitative de la qualité des prédictions d'un modèle par rapport aux valeurs réelles (ou aux étiquettes) dans un ensemble de données. Le score dépend de la tâche spécifique que vous effectuez, qu'il s'agisse de classification, de régression ou d'une autre tâche.\n",
    "\n",
    "\n",
    "## Score de Classification :\n",
    "\n",
    "Dans le contexte de la classification, le \"score\" peut se référer à des métriques telles que l'exactitude (accuracy), la précision (precision), le rappel (recall), le score F1, etc. Ces métriques mesurent la capacité du modèle à classer correctement les exemples dans différentes catégories.\n",
    "Régression :\n"
   ]
  },
  {
   "cell_type": "markdown",
   "id": "d9521d19-6330-449f-ae7d-6dd00df65e78",
   "metadata": {
    "jp-MarkdownHeadingCollapsed": true,
    "tags": []
   },
   "source": [
    "* **Accuracy** : La fonction d'accuracy calcule la proportion d'échantillons correctement classés par le modèle. \n",
    "$$Accuracy = \\frac{TP+TN}{TP+TN+FP+FN}$$\n",
    "où **TP** est le nombre de vrais positifs, **TN** est le nombre de vrais négatifs, **FP** est le nombre de faux positifs et **FN** est le nombre de faux négatifs.\n",
    "\n",
    "* **Precision** : La fonction de Precision calcule la proportion des prédictions positives qui sont correctes parmi toutes les prédictions positives. \n",
    "$$Precision = \\frac{TP}{TP+FP}$$\n",
    "\n",
    "* **Recall** : La fonction Recall calcule la proportion des vrais positifs qui sont correctement identifiés parmi tous les vrais positifs et les faux négatifs. \n",
    "$$Recall = \\frac{TP}{TP+FN}$$\n",
    "\n",
    "* **F1 Score** : La fonction F1 Score est une mesure de la précision et du recall, qui calcule la moyenne harmonique entre les deux mesures. \n",
    "$$F1 = 2 \\times \\frac{Precision \\times Recall}{Precision + Recall}$$\n",
    "\n",
    "    L'avantage du F1-score par rapport à simplement prendre la moyenne de la précision et du rappel réside dans le fait qu'il accorde plus de poids aux classes minoritaires. Cela signifie que le F1-score est particulièrement utile lorsque vous avez des classes déséquilibrées, car il pénalise davantage les modèles qui ont de mauvaises performances sur les classes minoritaires.\n",
    "\n",
    "    En résumé, le F1-score est une métrique globale qui tient compte à la fois de la précision et du rappel, ce qui en fait une mesure utile pour évaluer la performance d'un modèle de classification dans des situations où l'équilibre entre les classes ou la gestion des faux positifs et des faux négatifs est essentiel."
   ]
  },
  {
   "cell_type": "code",
   "execution_count": null,
   "id": "aa1c4d8d-d03f-4074-b90a-4f7cd094c9f8",
   "metadata": {},
   "outputs": [],
   "source": [
    "from tensorflow import keras\n",
    "\n",
    "# Créez votre modèle Keras (à titre d'exemple)\n",
    "model = keras.Sequential()\n",
    "# Ajoutez des couches au modèle\n",
    "\n",
    "# Compilez le modèle avec les métriques d'intérêt\n",
    "model.compile(optimizer='adam',\n",
    "              loss='binary_crossentropy',  # ou la fonction de perte appropriée\n",
    "              metrics=['accuracy', keras.metrics.Precision(), keras.metrics.Recall(), keras.metrics.F1Score()])\n",
    "\n",
    "# Entraînez votre modèle avec vos données d'entraînement\n",
    "# model.fit(train_data, train_labels, epochs=...)\n",
    "\n",
    "# Évaluez votre modèle avec des métriques (précision, recall, F1-score inclus)\n",
    "# scores = model.evaluate(test_data, test_labels)\n",
    "# accuracy = scores[1]\n",
    "# precision = scores[2]\n",
    "# recall = scores[3]\n",
    "# f1_score = scores[4]\n"
   ]
  },
  {
   "cell_type": "markdown",
   "id": "91c0aef5-6f87-4c47-a504-2cf69cf3625b",
   "metadata": {},
   "source": [
    "## Score de régression\n",
    "\n",
    "Dans le contexte de la régression, le \"score\" peut être représenté par des métriques telles que l'erreur quadratique moyenne (Mean Squared Error, MSE), l'erreur absolue moyenne (Mean Absolute Error, MAE), le coefficient de détermination (R-squared), etc. Ces métriques quantifient à quel point les prédictions du modèle correspondent aux valeurs réelles dans le cas de la régression."
   ]
  },
  {
   "cell_type": "markdown",
   "id": "6c45e8e1-6490-4f5c-84e4-b09d1b08c85f",
   "metadata": {},
   "source": [
    "* **Mean Squared Error (MSE)** : La fonction de MSE calcule la moyenne des carrés des différences entre les prédictions et les vraies valeurs. Cette fonction est couramment utilisée pour les problèmes de régression.\n",
    "\n",
    "* **Root Mean Squared Error (RMSE)** : La fonction de RMSE calcule la racine carrée de la moyenne des carrés des différences entre les prédictions et les vraies valeurs. Cette fonction est également couramment utilisée pour les problèmes de régression.\n",
    "\n",
    "* **R2 Score** également connu sous le nom de R-squared ($R^2$), est une mesure couramment utilisée pour évaluer la performance d'un modèle de régression. Il quantifie à quel point le modèle de régression s'ajuste aux données réelles. Le R2 score est une valeur comprise entre 0 et 1, où :\n",
    "\n",
    "    R2 = 1 : Le modèle explique parfaitement la variation des données. Toutes les variations dans les données sont capturées par le modèle, et les prédictions correspondent exactement aux valeurs réelles. C'est le scénario idéal.\n",
    "    \n",
    "    R2 = 0 : Le modèle n'explique aucune variation des données. Les prédictions du modèle sont aussi bonnes que de simplement utiliser la moyenne des valeurs réelles. Cela signifie que le modèle est inefficace pour expliquer les données.\n",
    "    \n",
    "    0 < R2 < 1 : Le modèle explique une proportion de la variation des données. Plus R2 se rapproche de 1, plus le modèle est performant pour expliquer la variation. Une valeur de 0,5 (par exemple) indiquerait que le modèle explique la moitié de la variation des données, ce qui est généralement considéré comme un ajustement raisonnable.\n",
    "\n",
    "$$R^2 = 1 - \\frac{\\sum_{i=1}^{N}(y_i - \\hat{y}_i)^2}{\\sum_{i=1}^{N}(y_i - \\bar{y})^2}$$\n",
    "\n",
    "avec **N** est le nombre d'échantillons dans le jeu de données, $y_i$ la vraie valeur de l'échantilon, $\\hat{y}_i$ la valeur prédite et $\\bar{y}$ est la moyenne des valeurs réelles $y$."
   ]
  },
  {
   "cell_type": "code",
   "execution_count": null,
   "id": "32a52f8c-33ff-45ae-95d0-4b90b4ef31c6",
   "metadata": {},
   "outputs": [],
   "source": [
    "from tensorflow import keras\n",
    "\n",
    "# Créez votre modèle Keras (à titre d'exemple)\n",
    "model = keras.Sequential()\n",
    "# Ajoutez des couches au modèle\n",
    "\n",
    "# Compilez le modèle avec les métriques d'intérêt\n",
    "model.compile(optimizer='adam',\n",
    "              loss='mean_squared_error',  # ou la fonction de perte appropriée pour la régression\n",
    "              metrics=['mean_absolute_error', 'mean_squared_error', keras.metrics.MeanSquaredError(), keras.metrics.MeanAbsoluteError()])\n",
    "\n",
    "# Entraînez votre modèle avec vos données d'entraînement\n",
    "# model.fit(train_data, train_labels, epochs=...)\n",
    "\n",
    "# Évaluez votre modèle avec les métriques (MSE, MAE et R2 inclus)\n",
    "# scores = model.evaluate(test_data, test_labels)\n",
    "# mse = scores[1]  # MSE\n",
    "# mae = scores[2]  # MAE\n",
    "# r2 = calculate_r2(test_labels, model.predict(test_data))  # R2 (utilisez une fonction pour calculer R2)\n"
   ]
  }
 ],
 "metadata": {
  "kernelspec": {
   "display_name": "Python 3 (ipykernel)",
   "language": "python",
   "name": "python3"
  },
  "language_info": {
   "codemirror_mode": {
    "name": "ipython",
    "version": 3
   },
   "file_extension": ".py",
   "mimetype": "text/x-python",
   "name": "python",
   "nbconvert_exporter": "python",
   "pygments_lexer": "ipython3",
   "version": "3.10.8"
  }
 },
 "nbformat": 4,
 "nbformat_minor": 5
}
