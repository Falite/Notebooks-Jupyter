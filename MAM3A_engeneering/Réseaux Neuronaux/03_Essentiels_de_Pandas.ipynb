{
 "cells": [
  {
   "cell_type": "markdown",
   "id": "a19141c1-752a-4956-8460-c1d6daa962cf",
   "metadata": {},
   "source": [
    "# Essentiels de pandas\n",
    "\n",
    "Pandas est une bibliothèque Python très puissante pour la manipulation et l'analyse de données. Voici un résumé des commandes essentielles à connaître en Pandas :"
   ]
  },
  {
   "cell_type": "markdown",
   "id": "0b400b59-1082-418b-94f3-894c8d0d6a88",
   "metadata": {},
   "source": [
    "## 1- Importer Pandas :\n",
    "Pour utiliser Pandas, commencez par l'importer :"
   ]
  },
  {
   "cell_type": "code",
   "execution_count": null,
   "id": "7d62ee8f-e90d-4ce9-ae1f-95647bed3956",
   "metadata": {
    "tags": []
   },
   "outputs": [],
   "source": [
    "import pandas as pd"
   ]
  },
  {
   "cell_type": "markdown",
   "id": "4a007cf5-1b8b-4c16-b043-eb3f6a8eb109",
   "metadata": {},
   "source": [
    "## 2- Création de DataFrame :\n",
    "\n",
    "Créez un DataFrame à partir d'un dictionnaire :"
   ]
  },
  {
   "cell_type": "code",
   "execution_count": null,
   "id": "1b158731-f36f-4cae-8a76-246d45cca78b",
   "metadata": {
    "tags": []
   },
   "outputs": [],
   "source": [
    "data = {'colonne1': [valeur1, valeur2, ...], 'colonne2': [valeur1, valeur2, ...]}\n",
    "df = pd.DataFrame(data)"
   ]
  },
  {
   "cell_type": "markdown",
   "id": "97a730d1-ecc9-4d6d-b9dc-24abd1036d96",
   "metadata": {},
   "source": [
    "Charger des données à partir d'un fichier CSV, Excel, ou d'autres formats :"
   ]
  },
  {
   "cell_type": "code",
   "execution_count": null,
   "id": "b8672cdb-b047-4c89-ab5a-9943bfd7f767",
   "metadata": {},
   "outputs": [],
   "source": [
    "df = pd.read_csv('fichier.csv')"
   ]
  },
  {
   "cell_type": "markdown",
   "id": "e8776a61-cc71-4ec0-a0c7-6e2041484c0a",
   "metadata": {},
   "source": [
    "## 3- Accès aux données :\n",
    "\n",
    "Afficher les premières lignes du DataFrame :"
   ]
  },
  {
   "cell_type": "code",
   "execution_count": null,
   "id": "4d6830e5-b102-4cba-ba24-4a9e4bb6e95a",
   "metadata": {
    "tags": []
   },
   "outputs": [],
   "source": [
    "df.head()"
   ]
  },
  {
   "cell_type": "markdown",
   "id": "33db3206-2a49-45b0-a663-eb6811ceae9d",
   "metadata": {},
   "source": [
    "Sélectionner une colonne :"
   ]
  },
  {
   "cell_type": "code",
   "execution_count": null,
   "id": "68efc2b1-4f20-4ab7-8a7f-e5b03844c8e5",
   "metadata": {},
   "outputs": [],
   "source": [
    "df['nom_de_colonne']"
   ]
  },
  {
   "cell_type": "markdown",
   "id": "a7bab3ca-e904-441e-a186-aff3a76a5ab5",
   "metadata": {},
   "source": [
    "Sélectionner plusieurs colonnes :"
   ]
  },
  {
   "cell_type": "code",
   "execution_count": null,
   "id": "24b8746d-327c-426d-bd28-9639bdfad73e",
   "metadata": {
    "tags": []
   },
   "outputs": [],
   "source": [
    "df[['colonne1', 'colonne2']]"
   ]
  },
  {
   "cell_type": "markdown",
   "id": "73879e0e-f737-4c74-8532-d7b084d05292",
   "metadata": {},
   "source": [
    "Sélectionner des lignes par index :"
   ]
  },
  {
   "cell_type": "code",
   "execution_count": null,
   "id": "3dcb50b1-b1ca-4577-a317-1b2b143e8651",
   "metadata": {},
   "outputs": [],
   "source": [
    "df.loc[index]"
   ]
  },
  {
   "cell_type": "markdown",
   "id": "ba8c704b-e65e-4bc0-9691-43931dd1edf1",
   "metadata": {},
   "source": [
    "Sélectionner des lignes par position :"
   ]
  },
  {
   "cell_type": "code",
   "execution_count": null,
   "id": "8106a972-a2d5-4f94-ab1f-be8aa58cbda3",
   "metadata": {
    "tags": []
   },
   "outputs": [],
   "source": [
    "df.iloc[position]"
   ]
  },
  {
   "cell_type": "markdown",
   "id": "79e109f7-abf5-4f38-9d11-615d51207064",
   "metadata": {},
   "source": [
    "## 4- Filtrage de données :\n",
    "Filtrer les lignes en fonction d'une condition :"
   ]
  },
  {
   "cell_type": "code",
   "execution_count": null,
   "id": "c2cb8fab-3669-46f9-abb6-6b7e07260093",
   "metadata": {},
   "outputs": [],
   "source": [
    "df[df['colonne'] > valeur]"
   ]
  },
  {
   "cell_type": "markdown",
   "id": "01779426-5bfb-4c94-8c14-99606e9841a2",
   "metadata": {},
   "source": [
    "## 5- Tri des données :\n",
    "Trier le DataFrame par une colonne :"
   ]
  },
  {
   "cell_type": "code",
   "execution_count": null,
   "id": "71fec7c9-6b6e-4706-a29e-2900b3856afc",
   "metadata": {},
   "outputs": [],
   "source": [
    "df.sort_values(by='colonne', ascending=False)"
   ]
  },
  {
   "cell_type": "markdown",
   "id": "11edd0a7-dae1-4b83-a6d1-66de1dcb9c7d",
   "metadata": {},
   "source": [
    "## 6- Ajout et suppression de colonnes :\n",
    "\n",
    "Ajouter une nouvelle colonne :"
   ]
  },
  {
   "cell_type": "code",
   "execution_count": null,
   "id": "04595d90-882d-4412-bc72-84c7c4580755",
   "metadata": {},
   "outputs": [],
   "source": [
    "df['nouvelle_colonne'] = [valeur1, valeur2, ...]"
   ]
  },
  {
   "cell_type": "markdown",
   "id": "da38fd0a-e1ba-41a4-ba5d-e2cd57fa7347",
   "metadata": {},
   "source": [
    "Supprimer une colonne :"
   ]
  },
  {
   "cell_type": "code",
   "execution_count": null,
   "id": "d628fb87-8ed5-41ff-98e8-b192591e9514",
   "metadata": {
    "tags": []
   },
   "outputs": [],
   "source": [
    "df.drop('colonne', axis=1, inplace=True)"
   ]
  },
  {
   "cell_type": "markdown",
   "id": "5e24ee74-8f26-4d84-bd68-c3ff57fd97b5",
   "metadata": {},
   "source": [
    "## 7- Agrégation et groupement de données :\n",
    "\n",
    "Regrouper les données par une colonne :"
   ]
  },
  {
   "cell_type": "code",
   "execution_count": null,
   "id": "e0ab6431-e1d1-49ac-bebf-1ddd999737eb",
   "metadata": {},
   "outputs": [],
   "source": [
    "df.groupby('colonne').mean()"
   ]
  },
  {
   "cell_type": "markdown",
   "id": "9a559793-2bcf-4047-91d4-792c4a06e264",
   "metadata": {},
   "source": [
    "Compter les occurrences par groupe :"
   ]
  },
  {
   "cell_type": "code",
   "execution_count": null,
   "id": "ab4c6908-ac89-4bf6-bb69-f346fb650555",
   "metadata": {
    "tags": []
   },
   "outputs": [],
   "source": [
    "df['colonne'].value_counts()"
   ]
  },
  {
   "cell_type": "markdown",
   "id": "fc800e79-fadf-45fe-9192-dc1a4f8c6506",
   "metadata": {},
   "source": [
    "## 8- Opérations statistiques :\n",
    "\n",
    "Calculer des statistiques descriptives :"
   ]
  },
  {
   "cell_type": "code",
   "execution_count": null,
   "id": "2d564182-0a5b-4c13-8cd0-45a2e7be6941",
   "metadata": {
    "tags": []
   },
   "outputs": [],
   "source": [
    "df.describe()"
   ]
  },
  {
   "cell_type": "markdown",
   "id": "2f40ac8a-562a-4429-bfb4-fe5f755df546",
   "metadata": {},
   "source": [
    "## 9- Remplacement de données manquantes :\n",
    "\n",
    "Remplacer les valeurs manquantes (NaN) par une valeur spécifique :"
   ]
  },
  {
   "cell_type": "code",
   "execution_count": null,
   "id": "1f628a5f-0bac-4d39-8cce-9b335f93b992",
   "metadata": {
    "tags": []
   },
   "outputs": [],
   "source": [
    "df.fillna(valeur)"
   ]
  },
  {
   "cell_type": "markdown",
   "id": "cc2fa871-4b66-43f5-9d31-51e6332547f9",
   "metadata": {},
   "source": [
    "## 10- Sauvegarde des données :\n",
    "\n",
    "Sauvegarder le DataFrame dans un fichier CSV :"
   ]
  },
  {
   "cell_type": "code",
   "execution_count": null,
   "id": "5813b2ec-533c-4233-9007-c715a8e5e5ce",
   "metadata": {},
   "outputs": [],
   "source": [
    "df.to_csv('nouveau_fichier.csv', index=False)"
   ]
  },
  {
   "cell_type": "markdown",
   "id": "47a235f0-5966-48fd-bcd0-2950dcffc17b",
   "metadata": {},
   "source": [
    "Ces commandes de base vous permettront de commencer à travailler avec Pandas pour la manipulation et l'analyse de données. Pandas offre de nombreuses autres fonctionnalités avancées pour explorer, nettoyer et analyser des données de manière plus approfondie."
   ]
  }
 ],
 "metadata": {
  "kernelspec": {
   "display_name": "Python 3 (ipykernel)",
   "language": "python",
   "name": "python3"
  },
  "language_info": {
   "codemirror_mode": {
    "name": "ipython",
    "version": 3
   },
   "file_extension": ".py",
   "mimetype": "text/x-python",
   "name": "python",
   "nbconvert_exporter": "python",
   "pygments_lexer": "ipython3",
   "version": "3.10.8"
  }
 },
 "nbformat": 4,
 "nbformat_minor": 5
}
