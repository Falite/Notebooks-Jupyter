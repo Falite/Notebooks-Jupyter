{
 "cells": [
  {
   "cell_type": "markdown",
   "id": "90bd3309-c32f-4e58-aa99-3f8a01e87045",
   "metadata": {
    "tags": []
   },
   "source": [
    "# Essentiels de Keras\n",
    "\n",
    "Keras est une bibliothèque open-source d'apprentissage profond (deep learning) écrite en Python. Elle a été initialement développée par François Chollet et est maintenant intégrée à TensorFlow, qui est l'une des bibliothèques d'apprentissage automatique les plus populaires. Keras est conçue pour simplifier la création, la formation et l'évaluation de réseaux de neurones artificiels."
   ]
  },
  {
   "cell_type": "markdown",
   "id": "62a7c65f-2eed-41e6-8fff-24b201c66e7c",
   "metadata": {},
   "source": [
    "# 1- Importer Keras et les modules nécessaires :"
   ]
  },
  {
   "cell_type": "code",
   "execution_count": null,
   "id": "f7132a6d-a604-41cc-a412-bf759cb22e2a",
   "metadata": {},
   "outputs": [],
   "source": [
    "import tensorflow as tf\n",
    "from tensorflow import keras"
   ]
  },
  {
   "cell_type": "markdown",
   "id": "645840fa-daf9-47c3-b09b-202953a39d2a",
   "metadata": {},
   "source": [
    "## 2- Créer un modèle séquentiel :\n",
    "Vous pouvez créer un modèle séquentiel en empilant des couches les unes sur les autres. Le modèle séquentiel est adapté aux réseaux de neurones à une seule direction, où les données passent de l'entrée à la sortie."
   ]
  },
  {
   "cell_type": "code",
   "execution_count": null,
   "id": "adc76a0f-be7e-4262-b87d-0ea479b7142c",
   "metadata": {},
   "outputs": [],
   "source": [
    "model = keras.Sequential()"
   ]
  },
  {
   "cell_type": "markdown",
   "id": "8bbc474f-0b3f-441f-96f8-e13be04ac9d8",
   "metadata": {},
   "source": [
    "## 3- Ajouter des couches au modèle :\n",
    "Ajoutez des couches au modèle en utilisant la méthode add. Par exemple, pour ajouter une couche dense (entièrement connectée) avec 64 neurones et une fonction d'activation ReLU :"
   ]
  },
  {
   "cell_type": "code",
   "execution_count": null,
   "id": "849123e4-0786-467c-9199-eeb8d483a7ec",
   "metadata": {},
   "outputs": [],
   "source": [
    "model.add(keras.layers.Dense(64, activation='relu'))"
   ]
  },
  {
   "cell_type": "markdown",
   "id": "f03c735a-cecf-4186-b894-9d2060bebcb7",
   "metadata": {},
   "source": [
    "Vous pouvez ajouter autant de couches que nécessaire, en spécifiant le nombre de neurones et la fonction d'activation appropriés.\n",
    "\n",
    "## 4- Spécifier la couche de sortie :\n",
    "Ajoutez la couche de sortie qui correspond à votre tâche. Par exemple, pour une tâche de classification binaire avec une fonction d'activation sigmoïde en sortie :"
   ]
  },
  {
   "cell_type": "code",
   "execution_count": null,
   "id": "c3bbfdbe-3dd1-496e-b985-5aa663328f91",
   "metadata": {},
   "outputs": [],
   "source": [
    "model.add(keras.layers.Dense(1, activation='sigmoid'))"
   ]
  },
  {
   "cell_type": "markdown",
   "id": "b52dd52a-49bd-460e-b28b-c5136349138e",
   "metadata": {},
   "source": [
    "Pour une classification multi-classes, vous pouvez utiliser une fonction d'activation comme softmax et spécifier le nombre de classes en sortie.\n",
    "\n",
    "## 5- Compiler le modèle :\n",
    "Avant de pouvoir entraîner le modèle, vous devez le compiler en spécifiant la fonction de perte, l'optimiseur et les métriques que vous souhaitez utiliser. Par exemple :"
   ]
  },
  {
   "cell_type": "code",
   "execution_count": null,
   "id": "5e5cf5ad-543d-44b2-9aff-e549bc5e7341",
   "metadata": {},
   "outputs": [],
   "source": [
    "model.compile(loss='binary_crossentropy', optimizer='adam', metrics=['accuracy'])"
   ]
  },
  {
   "cell_type": "markdown",
   "id": "4b06fa18-e03a-4374-b1ac-8b616ed8ea76",
   "metadata": {},
   "source": [
    "Vous devez adapter la fonction de perte et l'optimiseur en fonction de votre tâche.\n",
    "\n",
    "## 6- Entraîner le modèle :\n",
    "Pour entraîner le modèle, utilisez la méthode fit en spécifiant les données d'entraînement (X_train, y_train) et le nombre d'époques :"
   ]
  },
  {
   "cell_type": "code",
   "execution_count": null,
   "id": "0a628879-3542-4940-b2d4-934f2db38102",
   "metadata": {},
   "outputs": [],
   "source": [
    "model.fit(X_train, y_train, epochs=10, batch_size=32)"
   ]
  },
  {
   "cell_type": "markdown",
   "id": "03d51ada-01d4-46e9-bad2-d2c9785db1d8",
   "metadata": {},
   "source": [
    "## 7- Évaluer le modèle :\n",
    "Évaluez la performance du modèle sur des données de test à l'aide de la méthode *evaluate* :"
   ]
  },
  {
   "cell_type": "code",
   "execution_count": null,
   "id": "15d8cab0-96d1-48d8-ac1a-e909cff9b705",
   "metadata": {},
   "outputs": [],
   "source": [
    "loss, accuracy = model.evaluate(X_test, y_test)"
   ]
  },
  {
   "cell_type": "markdown",
   "id": "4f8dda25-aa2d-4185-b680-a1bd1fb7731d",
   "metadata": {},
   "source": [
    "## 8- Faire des prédictions :\n",
    "Utilisez le modèle pour faire des prédictions sur de nouvelles données avec la méthode *predict* :"
   ]
  },
  {
   "cell_type": "code",
   "execution_count": null,
   "id": "aca26b0c-241d-4735-a5b5-e8eb547f3e24",
   "metadata": {},
   "outputs": [],
   "source": [
    "predictions = model.predict(X_new)"
   ]
  },
  {
   "cell_type": "markdown",
   "id": "6cb0677a-8889-4d7f-b17d-e44629664f78",
   "metadata": {},
   "source": [
    "Ces étapes couvrent la création, la compilation, l'entraînement et l'utilisation d'un modèle de réseau de neurones dense séquentiel avec Keras. N'oubliez pas d'adapter les hyperparamètres et la structure du modèle en fonction de votre tâche spécifique."
   ]
  }
 ],
 "metadata": {
  "kernelspec": {
   "display_name": "Python 3 (ipykernel)",
   "language": "python",
   "name": "python3"
  },
  "language_info": {
   "codemirror_mode": {
    "name": "ipython",
    "version": 3
   },
   "file_extension": ".py",
   "mimetype": "text/x-python",
   "name": "python",
   "nbconvert_exporter": "python",
   "pygments_lexer": "ipython3",
   "version": "3.10.8"
  }
 },
 "nbformat": 4,
 "nbformat_minor": 5
}
