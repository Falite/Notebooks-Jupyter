{
 "cells": [
  {
   "cell_type": "markdown",
   "id": "94b3f02e-a91a-43c8-9014-b3eef100f1a0",
   "metadata": {
    "tags": []
   },
   "source": [
    "# Exercice 1 TD03 Optimisation"
   ]
  },
  {
   "cell_type": "markdown",
   "id": "d32e6869-a4b2-44bd-ad85-c953f8dc24f9",
   "metadata": {},
   "source": [
    "on a \n",
    "$A= \\begin{pmatrix} 2&-2&0 \\\\ -2 & 4 & -1 \\\\ 0 & -1 & 2 \\\\ \\end{pmatrix}$                 \n",
    "et on veut montrer qu'il est SDP"
   ]
  },
  {
   "cell_type": "markdown",
   "id": "daefb6c9-57ed-486e-baff-51db918fdd02",
   "metadata": {},
   "source": [
    "On écrit ses sous matrices principales :            \n",
    "$A_1=2$       \n",
    "$A_2= \\begin{pmatrix} 2 & -2 \\\\ -2 & 4 \\\\\\end{pmatrix} $        \n",
    "$A_3=A$"
   ]
  },
  {
   "cell_type": "code",
   "execution_count": 1,
   "id": "4c24cf11-152f-46f6-8ee3-fa3118bdc9b8",
   "metadata": {
    "tags": []
   },
   "outputs": [],
   "source": [
    "import numpy as np"
   ]
  },
  {
   "cell_type": "code",
   "execution_count": 3,
   "id": "74a70094-44b4-46a9-bbb0-4b19e97fbe8f",
   "metadata": {
    "tags": []
   },
   "outputs": [],
   "source": [
    "A = np.array(\n",
    "    [[2 , -2 , 0],\n",
    "    [-2 , 4 , -1 ],\n",
    "    [0, -1, 2]] )"
   ]
  },
  {
   "cell_type": "code",
   "execution_count": 4,
   "id": "d32fb172-f176-4ee4-9205-fbbf86eee32b",
   "metadata": {
    "tags": []
   },
   "outputs": [],
   "source": [
    "A2 = np.array ( \n",
    "    [[2, -2],\n",
    "     [-2, 4 ]] )"
   ]
  },
  {
   "cell_type": "markdown",
   "id": "e07c33dc-8db4-450c-bd29-b3f44d82db0d",
   "metadata": {},
   "source": [
    "#### par le critère de Sylvester : "
   ]
  },
  {
   "cell_type": "code",
   "execution_count": 10,
   "id": "579c4d6b-f913-4431-ba8a-1ef509aa0ed4",
   "metadata": {
    "tags": []
   },
   "outputs": [
    {
     "data": {
      "text/plain": [
       "True"
      ]
     },
     "execution_count": 10,
     "metadata": {},
     "output_type": "execute_result"
    }
   ],
   "source": [
    "(2>0) & (np.linalg.det(A2)>0) & (np.linalg.det(A)>0)"
   ]
  },
  {
   "cell_type": "markdown",
   "id": "8e853811-6ed2-4a79-add6-ecbad60a5856",
   "metadata": {},
   "source": [
    "#### par les valeurs propres :"
   ]
  },
  {
   "cell_type": "code",
   "execution_count": 16,
   "id": "a85d307a-f667-41df-90c5-84b0153b7ca4",
   "metadata": {
    "tags": []
   },
   "outputs": [],
   "source": [
    "valpropreA = np.linalg.eig(A)[0]"
   ]
  },
  {
   "cell_type": "code",
   "execution_count": 27,
   "id": "45c23d47-ac79-41d0-93ec-3b80c80123b2",
   "metadata": {
    "tags": []
   },
   "outputs": [
    {
     "name": "stdout",
     "output_type": "stream",
     "text": [
      "True\n",
      "True\n",
      "True\n"
     ]
    }
   ],
   "source": [
    "for i in range(3) :\n",
    "    print(valpropreA[i]>0)"
   ]
  }
 ],
 "metadata": {
  "kernelspec": {
   "display_name": "Python 3 (ipykernel)",
   "language": "python",
   "name": "python3"
  },
  "language_info": {
   "codemirror_mode": {
    "name": "ipython",
    "version": 3
   },
   "file_extension": ".py",
   "mimetype": "text/x-python",
   "name": "python",
   "nbconvert_exporter": "python",
   "pygments_lexer": "ipython3",
   "version": "3.11.5"
  }
 },
 "nbformat": 4,
 "nbformat_minor": 5
}
