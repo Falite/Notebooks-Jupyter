{
 "cells": [
  {
   "cell_type": "code",
   "execution_count": 1,
   "metadata": {},
   "outputs": [],
   "source": [
    "import numpy as np\n",
    "import matplotlib as plt"
   ]
  },
  {
   "cell_type": "code",
   "execution_count": 7,
   "metadata": {},
   "outputs": [],
   "source": [
    "def u(n):\n",
    "    return 2**(n+1)/3**(n+2)"
   ]
  },
  {
   "cell_type": "code",
   "execution_count": 15,
   "metadata": {},
   "outputs": [
    {
     "name": "stdout",
     "output_type": "stream",
     "text": [
      "l'erreur est pour n= 0 , 0.2222222222222222\n",
      "l'erreur est pour n= 1 , 0.14814814814814814\n",
      "l'erreur est pour n= 2 , 0.09876543209876543\n",
      "l'erreur est pour n= 3 , 0.06584362139917696\n",
      "l'erreur est pour n= 4 , 0.0438957475994513\n",
      "l'erreur est pour n= 5 , 0.029263831732967534\n",
      "l'erreur est pour n= 6 , 0.01950922115531169\n",
      "l'erreur est pour n= 7 , 0.01300614743687446\n",
      "l'erreur est pour n= 8 , 0.008670764957916306\n",
      "l'erreur est pour n= 9 , 0.0057805099719442045\n",
      "l'erreur est pour n= 10 , 0.0038536733146294698\n",
      "l'erreur est pour n= 11 , 0.002569115543086313\n",
      "l'erreur est pour n= 12 , 0.0017127436953908754\n",
      "l'erreur est pour n= 13 , 0.0011418291302605836\n",
      "l'erreur est pour n= 14 , 0.0007612194201737224\n",
      "l'erreur est pour n= 15 , 0.0005074796134491483\n",
      "l'erreur est pour n= 16 , 0.00033831974229943216\n",
      "l'erreur est pour n= 17 , 0.0002255464948662881\n",
      "l'erreur est pour n= 18 , 0.00015036432991085875\n",
      "l'erreur est pour n= 19 , 0.00010024288660723917\n",
      "l'erreur est pour n= 20 , 6.682859107149278e-05\n",
      "l'erreur est pour n= 21 , 4.4552394047661854e-05\n",
      "l'erreur est pour n= 22 , 2.9701596031774567e-05\n",
      "l'erreur est pour n= 23 , 1.9801064021183045e-05\n",
      "l'erreur est pour n= 24 , 1.3200709347455363e-05\n",
      "l'erreur est pour n= 25 , 8.800472898303575e-06\n",
      "l'erreur est pour n= 26 , 5.866981932202383e-06\n",
      "l'erreur est pour n= 27 , 3.9113212881349225e-06\n",
      "l'erreur est pour n= 28 , 2.6075475254232818e-06\n",
      "l'erreur est pour n= 29 , 1.7383650169488545e-06\n",
      "l'erreur est pour n= 30 , 1.1589100112992362e-06\n",
      "l'erreur est pour n= 31 , 7.726066741994909e-07\n",
      "l'erreur est pour n= 32 , 5.150711161329939e-07\n",
      "l'erreur est pour n= 33 , 3.433807440886626e-07\n",
      "l'erreur est pour n= 34 , 2.289204960591084e-07\n",
      "l'erreur est pour n= 35 , 1.526136640394056e-07\n",
      "l'erreur est pour n= 36 , 1.0174244269293706e-07\n",
      "l'erreur est pour n= 37 , 6.782829512862471e-08\n",
      "l'erreur est pour n= 38 , 4.521886341908314e-08\n",
      "l'erreur est pour n= 39 , 3.014590894605543e-08\n"
     ]
    }
   ],
   "source": [
    "for i in range(40):\n",
    "    print(\"l'erreur est pour n=\",i,\",\",u(i))"
   ]
  },
  {
   "cell_type": "code",
   "execution_count": 16,
   "metadata": {
    "scrolled": false
   },
   "outputs": [
    {
     "name": "stdout",
     "output_type": "stream",
     "text": [
      "la place de la femme est à la cuisine\n"
     ]
    }
   ],
   "source": []
  },
  {
   "cell_type": "code",
   "execution_count": null,
   "metadata": {},
   "outputs": [],
   "source": []
  }
 ],
 "metadata": {
  "kernelspec": {
   "display_name": "Python 3",
   "language": "python",
   "name": "python3"
  },
  "language_info": {
   "codemirror_mode": {
    "name": "ipython",
    "version": 3
   },
   "file_extension": ".py",
   "mimetype": "text/x-python",
   "name": "python",
   "nbconvert_exporter": "python",
   "pygments_lexer": "ipython3",
   "version": "3.7.4"
  }
 },
 "nbformat": 4,
 "nbformat_minor": 2
}
