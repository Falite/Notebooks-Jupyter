{
 "cells": [
  {
   "cell_type": "code",
   "execution_count": 18,
   "id": "7b096d62-c54b-4837-a7ce-f0892ca8812e",
   "metadata": {},
   "outputs": [],
   "source": [
    "import pandas as pd\n",
    "import seaborn as sns"
   ]
  },
  {
   "cell_type": "markdown",
   "id": "684fb5f6-cbd8-4502-ba85-55de63ccd2cd",
   "metadata": {},
   "source": [
    "# Lecture et découverte du dataframe Bitcoin"
   ]
  },
  {
   "cell_type": "code",
   "execution_count": 11,
   "id": "c1fda0ed-5290-428c-8dba-73fb492c957a",
   "metadata": {},
   "outputs": [
    {
     "data": {
      "text/html": [
       "<div>\n",
       "<style scoped>\n",
       "    .dataframe tbody tr th:only-of-type {\n",
       "        vertical-align: middle;\n",
       "    }\n",
       "\n",
       "    .dataframe tbody tr th {\n",
       "        vertical-align: top;\n",
       "    }\n",
       "\n",
       "    .dataframe thead th {\n",
       "        text-align: right;\n",
       "    }\n",
       "</style>\n",
       "<table border=\"1\" class=\"dataframe\">\n",
       "  <thead>\n",
       "    <tr style=\"text-align: right;\">\n",
       "      <th></th>\n",
       "      <th>Timestamp</th>\n",
       "      <th>Open</th>\n",
       "      <th>High</th>\n",
       "      <th>Low</th>\n",
       "      <th>Close</th>\n",
       "      <th>Volume</th>\n",
       "      <th>datetime</th>\n",
       "    </tr>\n",
       "  </thead>\n",
       "  <tbody>\n",
       "    <tr>\n",
       "      <th>0</th>\n",
       "      <td>1.325412e+09</td>\n",
       "      <td>4.58</td>\n",
       "      <td>4.58</td>\n",
       "      <td>4.58</td>\n",
       "      <td>4.58</td>\n",
       "      <td>0.0</td>\n",
       "      <td>2012-01-01 10:01:00+00:00</td>\n",
       "    </tr>\n",
       "    <tr>\n",
       "      <th>1</th>\n",
       "      <td>1.325412e+09</td>\n",
       "      <td>4.58</td>\n",
       "      <td>4.58</td>\n",
       "      <td>4.58</td>\n",
       "      <td>4.58</td>\n",
       "      <td>0.0</td>\n",
       "      <td>2012-01-01 10:02:00+00:00</td>\n",
       "    </tr>\n",
       "    <tr>\n",
       "      <th>2</th>\n",
       "      <td>1.325412e+09</td>\n",
       "      <td>4.58</td>\n",
       "      <td>4.58</td>\n",
       "      <td>4.58</td>\n",
       "      <td>4.58</td>\n",
       "      <td>0.0</td>\n",
       "      <td>2012-01-01 10:03:00+00:00</td>\n",
       "    </tr>\n",
       "    <tr>\n",
       "      <th>3</th>\n",
       "      <td>1.325412e+09</td>\n",
       "      <td>4.58</td>\n",
       "      <td>4.58</td>\n",
       "      <td>4.58</td>\n",
       "      <td>4.58</td>\n",
       "      <td>0.0</td>\n",
       "      <td>2012-01-01 10:04:00+00:00</td>\n",
       "    </tr>\n",
       "    <tr>\n",
       "      <th>4</th>\n",
       "      <td>1.325412e+09</td>\n",
       "      <td>4.58</td>\n",
       "      <td>4.58</td>\n",
       "      <td>4.58</td>\n",
       "      <td>4.58</td>\n",
       "      <td>0.0</td>\n",
       "      <td>2012-01-01 10:05:00+00:00</td>\n",
       "    </tr>\n",
       "  </tbody>\n",
       "</table>\n",
       "</div>"
      ],
      "text/plain": [
       "      Timestamp  Open  High   Low  Close  Volume                   datetime\n",
       "0  1.325412e+09  4.58  4.58  4.58   4.58     0.0  2012-01-01 10:01:00+00:00\n",
       "1  1.325412e+09  4.58  4.58  4.58   4.58     0.0  2012-01-01 10:02:00+00:00\n",
       "2  1.325412e+09  4.58  4.58  4.58   4.58     0.0  2012-01-01 10:03:00+00:00\n",
       "3  1.325412e+09  4.58  4.58  4.58   4.58     0.0  2012-01-01 10:04:00+00:00\n",
       "4  1.325412e+09  4.58  4.58  4.58   4.58     0.0  2012-01-01 10:05:00+00:00"
      ]
     },
     "execution_count": 11,
     "metadata": {},
     "output_type": "execute_result"
    }
   ],
   "source": [
    "df_Bitcoin = pd.read_csv(\"btcusd_1-min_data.csv\")\n",
    "df_Bitcoin.head()"
   ]
  },
  {
   "cell_type": "code",
   "execution_count": 13,
   "id": "0a4a47ce-cc09-4427-b91f-4d262fff14b8",
   "metadata": {},
   "outputs": [
    {
     "name": "stdout",
     "output_type": "stream",
     "text": [
      "<class 'pandas.core.frame.DataFrame'>\n",
      "RangeIndex: 6944800 entries, 0 to 6944799\n",
      "Data columns (total 7 columns):\n",
      " #   Column     Dtype  \n",
      "---  ------     -----  \n",
      " 0   Timestamp  float64\n",
      " 1   Open       float64\n",
      " 2   High       float64\n",
      " 3   Low        float64\n",
      " 4   Close      float64\n",
      " 5   Volume     float64\n",
      " 6   datetime   object \n",
      "dtypes: float64(6), object(1)\n",
      "memory usage: 370.9+ MB\n"
     ]
    }
   ],
   "source": [
    "df_Bitcoin.info()"
   ]
  },
  {
   "cell_type": "code",
   "execution_count": 14,
   "id": "4e12cc06-e142-4cc5-acea-c1190daf0967",
   "metadata": {},
   "outputs": [
    {
     "name": "stdout",
     "output_type": "stream",
     "text": [
      "(6944800, 7)\n"
     ]
    }
   ],
   "source": [
    "print(df_Bitcoin.shape)"
   ]
  },
  {
   "cell_type": "code",
   "execution_count": 15,
   "id": "984f3e3a-532a-443b-9c37-fa7631f41854",
   "metadata": {},
   "outputs": [
    {
     "data": {
      "text/plain": [
       "Timestamp         0\n",
       "Open              0\n",
       "High              0\n",
       "Low               0\n",
       "Close             0\n",
       "Volume            0\n",
       "datetime     162520\n",
       "dtype: int64"
      ]
     },
     "execution_count": 15,
     "metadata": {},
     "output_type": "execute_result"
    }
   ],
   "source": [
    "df_Bitcoin.isna().sum()"
   ]
  },
  {
   "cell_type": "code",
   "execution_count": 17,
   "id": "434e8dd1-2ca3-43c4-ba02-dab2443f0c5d",
   "metadata": {},
   "outputs": [
    {
     "data": {
      "text/plain": [
       "Timestamp         0\n",
       "Open              0\n",
       "High              0\n",
       "Low               0\n",
       "Close             0\n",
       "Volume            0\n",
       "datetime     162520\n",
       "dtype: int64"
      ]
     },
     "execution_count": 17,
     "metadata": {},
     "output_type": "execute_result"
    }
   ],
   "source": [
    "df_Bitcoin.isnull().sum()"
   ]
  },
  {
   "cell_type": "markdown",
   "id": "454fed3e-c3c3-4581-b9f8-bf8a858c8329",
   "metadata": {},
   "source": [
    "## Concernant la variable timestamp"
   ]
  },
  {
   "cell_type": "code",
   "execution_count": null,
   "id": "d4da3e29-040f-45da-a7e7-97b2cf089ed1",
   "metadata": {},
   "outputs": [],
   "source": [
    "df_Bitcoin[\"Timestamp\"].values_counts()"
   ]
  },
  {
   "cell_type": "code",
   "execution_count": null,
   "id": "31641989-e51e-4902-b5fa-ec91c2a0ba86",
   "metadata": {},
   "outputs": [],
   "source": []
  }
 ],
 "metadata": {
  "kernelspec": {
   "display_name": "Python 3 (ipykernel)",
   "language": "python",
   "name": "python3"
  },
  "language_info": {
   "codemirror_mode": {
    "name": "ipython",
    "version": 3
   },
   "file_extension": ".py",
   "mimetype": "text/x-python",
   "name": "python",
   "nbconvert_exporter": "python",
   "pygments_lexer": "ipython3",
   "version": "3.12.1"
  }
 },
 "nbformat": 4,
 "nbformat_minor": 5
}
