{
 "cells": [
  {
   "cell_type": "code",
   "execution_count": 2,
   "metadata": {},
   "outputs": [],
   "source": [
    "#Calculation of the number of wind turbines for a 100% wind-powered France\n",
    "import math\n",
    "import numpy as np \n",
    "import matplotlib.pyplot as plt"
   ]
  },
  {
   "cell_type": "code",
   "execution_count": 5,
   "metadata": {},
   "outputs": [
    {
     "name": "stdout",
     "output_type": "stream",
     "text": [
      "France consumes 161681.0 gigawatt of power per year\n",
      "And we need 26946834 big wind turbines in 2022\n"
     ]
    }
   ],
   "source": [
    "ADwellingConsume = 390000\n",
    "\n",
    "def DwellingConsume(x):\n",
    "    return ADwellingConsume * x \n",
    "\n",
    "ABigCompanyConsume = 3000000000\n",
    "\n",
    "def BigCompanyConsume(x):\n",
    "    return ABigCompanyConsume * x \n",
    "\n",
    "AMiddleCompanyConsume = 118000000\n",
    "\n",
    "def MiddleCompanyConsume(x):\n",
    "    return AMiddleCompanyConsume * x\n",
    "\n",
    "def FranceConsume(d,b,m):\n",
    "    return DwellingConsume(d) + BigCompanyConsume(b) + MiddleCompanyConsume(m)\n",
    "\n",
    "def ConsumeInGigaWatt(x):\n",
    "    return x/1000000000\n",
    "\n",
    "FranceConsumeGigaWattPerYear = ConsumeInGigaWatt(FranceConsume(370000000,287,140000))\n",
    "\n",
    "ABigWingTurbineProduce = 6000000\n",
    "\n",
    "def WindTurbineNeeded(e):\n",
    "    return e / ABigWingTurbineProduce\n",
    "\n",
    "ActualNeedOfWindTurbine = round(WindTurbineNeeded(FranceConsume(370000000,287,140000)))+1\n",
    "\n",
    "print(\"France consumes\" , FranceConsumeGigaWattPerYear , \"gigawatt of power per year\" )\n",
    "print(\"And we need\" , ActualNeedOfWindTurbine , \"big wind turbines in 2022\")"
   ]
  },
  {
   "cell_type": "code",
   "execution_count": 6,
   "metadata": {},
   "outputs": [
    {
     "data": {
      "image/png": "[encoded data removed]",
      "text/plain": [
       "<Figure size 432x288 with 1 Axes>"
      ]
     },
     "metadata": {
      "needs_background": "light"
     },
     "output_type": "display_data"
    },
    {
     "name": "stdout",
     "output_type": "stream",
     "text": [
      "\n"
     ]
    }
   ],
   "source": [
    "def VariationsWindTurbinePerYear(x):\n",
    "    b=0\n",
    "    d=500000*(x-2022)\n",
    "    m=1000*(x-2022)\n",
    "    return ActualNeedOfWindTurbine + WindTurbineNeeded(FranceConsume(d,b,m))\n",
    "\n",
    "a=2022 ; b=2030\n",
    "xp=np.linspace(a,b,100)\n",
    "plt.plot(xp,VariationsWindTurbinePerYear(xp),'r')\n",
    "plt.show()\n",
    "print(\"\")"
   ]
  },
  {
   "cell_type": "code",
   "execution_count": null,
   "metadata": {},
   "outputs": [],
   "source": []
  }
 ],
 "metadata": {
  "kernelspec": {
   "display_name": "Python 3",
   "language": "python",
   "name": "python3"
  },
  "language_info": {
   "codemirror_mode": {
    "name": "ipython",
    "version": 3
   },
   "file_extension": ".py",
   "mimetype": "text/x-python",
   "name": "python",
   "nbconvert_exporter": "python",
   "pygments_lexer": "ipython3",
   "version": "3.7.4"
  }
 },
 "nbformat": 4,
 "nbformat_minor": 2
}
