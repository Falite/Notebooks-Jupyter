{
 "cells": [
  {
   "cell_type": "code",
   "execution_count": 2,
   "metadata": {},
   "outputs": [],
   "source": [
    "import math \n",
    "import matplotlib.pyplot as plt\n",
    "import numpy as np\n",
    "from scipy.integrate import quad"
   ]
  },
  {
   "cell_type": "code",
   "execution_count": 3,
   "metadata": {},
   "outputs": [
    {
     "data": {
      "image/png": "[encoded data removed]",
      "text/plain": [
       "<Figure size 432x288 with 1 Axes>"
      ]
     },
     "metadata": {
      "needs_background": "light"
     },
     "output_type": "display_data"
    }
   ],
   "source": [
    "#On définit la fonction qu'on veut étudier \n",
    "def f(x):\n",
    "    return np.exp(-1*(x**2))\n",
    "def F(x):\n",
    "    return quad(f,0,x,args=(a,b))\n",
    "a=0  ; b=1\n",
    "xp=np.linspace(a,b,100)\n",
    "plt.plot(xp,f(xp),'r')\n",
    "plt.show()"
   ]
  },
  {
   "cell_type": "markdown",
   "metadata": {},
   "source": [
    "### Question 1\n",
    "rectangles : on rentre la fonction , puis la borne a gauche et enfin la borne à droite ( sur laquelle on veut \n",
    "intégrer )"
   ]
  },
  {
   "cell_type": "code",
   "execution_count": 4,
   "metadata": {},
   "outputs": [
    {
     "name": "stdout",
     "output_type": "stream",
     "text": [
      "2.0\n",
      "1.3678794411714423\n",
      "4.483082573457063\n"
     ]
    }
   ],
   "source": [
    "def intrectangledroite(x,a,b): \n",
    "    return 2*x(a)\n",
    "def intrectanglegauche(x,a,b):\n",
    "    return 2*x(b)\n",
    "def intrectanglemilieu(x,a,b):\n",
    "    z=(b-a)/2\n",
    "    return 2*x(z)\n",
    "\n",
    "#trapezes : même chose que pour les rectangles\n",
    "def inttrapezes(x,a,b):\n",
    "    return x(a)+x(b)\n",
    "#et enfin simpson\n",
    "def intsimpson(x,a,b):\n",
    "    z=(b-a)/2\n",
    "    return x(a)+4*x(z)+x(b)\n",
    "\n",
    "#on teste les fonctions , elles correspondent bien aux valeurs souhaitées\n",
    "print(intrectangledroite(f,0,1))\n",
    "print(inttrapezes(f,0,1))\n",
    "print(intsimpson(f,0,1))"
   ]
  },
  {
   "cell_type": "code",
   "execution_count": 5,
   "metadata": {},
   "outputs": [
    {
     "name": "stdout",
     "output_type": "stream",
     "text": [
      "0.7468553797909873\n",
      "0.6001006923898728\n"
     ]
    }
   ],
   "source": [
    "#Question2 : on écrit les fonctions composées \n",
    "\n",
    "\n",
    "def inttrapezescompose(f,a,b,n): #On entre la fonction, la borne gauche , la borne droite puis le nb d'intervalles\n",
    "    h = (b-a)/n                  #On initialise le h\n",
    "    somme = (f(a)+f(b))/2        #on initialise la somme\n",
    "    x=a+h \n",
    "    for i in range(1,n):         #ensuite on entre la somme sur n conformément à la formule du cours \n",
    "        somme += f(x+h)\n",
    "        x += h\n",
    "    return somme*h               #on retourne le résultat final\n",
    "    \n",
    "def intsimpsoncompose(f,a,b,n):  #mêmes arguments et même méthode d'initialisation\n",
    "    h = (b-a)/n \n",
    "    somme = f(a)+f(b)  \n",
    "    x=a                         #particularité : on considère maintenant un pas de 2h\n",
    "    for i in range(1,n//2):     #on entre la somme sur n conformément à la formule du cours\n",
    "        somme += 2*f(x+2*h) + 4*f(x+h)  \n",
    "        x += 2*h\n",
    "    somme += 4*f(x+h)\n",
    "    return somme*h/3            #on retourne le résultat\n",
    "\n",
    "#On teste les fonctions \n",
    "\n",
    "print(intsimpsoncompose(f,0,1,4))\n",
    "print(inttrapezescompose(f,0,1,4))"
   ]
  },
  {
   "cell_type": "code",
   "execution_count": 6,
   "metadata": {},
   "outputs": [],
   "source": [
    "exact,prec=quad(f,0,1)"
   ]
  },
  {
   "cell_type": "markdown",
   "metadata": {},
   "source": [
    "###  Question 2 : étude des erreurs "
   ]
  },
  {
   "cell_type": "markdown",
   "metadata": {},
   "source": [
    "On entre la fonction , les bornes gauche puis droite de l'intervalle,\n",
    "le nombre de sous intervalles souhaitées et enfin l'intégrale \"exacte\"\n",
    "qui est en fait la fonction appliquée à quad...."
   ]
  },
  {
   "cell_type": "code",
   "execution_count": 21,
   "metadata": {},
   "outputs": [
    {
     "name": "stdout",
     "output_type": "stream",
     "text": [
      "0.14672344042255425\n",
      "0.07803564244597772\n",
      "0.039503406542872765\n"
     ]
    }
   ],
   "source": [
    "#Question 2 : étude des erreurs \n",
    "\n",
    "def erreurtrapeze(f,a,b,n,e):                 \n",
    "    return abs(inttrapezescompose(f,a,b,n)-e) \n",
    "def erreursimpson(f,a,b,n,e):                 \n",
    "    return abs(intsimpsoncompose(f,a,b,n)-e)\n",
    "\n",
    "print(erreurtrapeze(f,0,1,4,exact))\n",
    "print(erreurtrapeze(f,0,1,8,exact)) \n",
    "print(erreurtrapeze(f,0,1,16,exact))\n"
   ]
  },
  {
   "cell_type": "markdown",
   "metadata": {},
   "source": [
    "On a vu dans le cours que dans le cas des deux méthodes, plus on choisit un grand nombre\n",
    "d'intervalles ,plus le résultat s'affine . On le remarque de par les test ci dessous\n"
   ]
  },
  {
   "cell_type": "code",
   "execution_count": 22,
   "metadata": {},
   "outputs": [
    {
     "name": "stdout",
     "output_type": "stream",
     "text": [
      "3.124697856016212e-05\n",
      "1.9877150395641863e-06\n",
      "1.2462330323259607e-07\n"
     ]
    }
   ],
   "source": [
    "print(erreursimpson(f,0,1,4,exact)) #De plus , on remarque que la méthode simpson est plus efficace que la méthode des \n",
    "print(erreursimpson(f,0,1,8,exact)) #trapezes, vu que l'erreur est nettement inférieur ...\n",
    "print(erreursimpson(f,0,1,16,exact))"
   ]
  },
  {
   "cell_type": "markdown",
   "metadata": {},
   "source": [
    "### Question 3\n",
    "Selon le cours , les formules composées tendent vers la valeur exacte quand le nombre d'intervalle est plus grand ,\n",
    "quand on intègre sur une certaine intervalle précise et invariante ...\n",
    "sur l'exemple ci dessus , on remarque que c'est le cas: l'erreur étant de plus en plus petite quand n ( le nombre\n",
    "de sous intervalles ) augmente ."
   ]
  },
  {
   "cell_type": "code",
   "execution_count": 24,
   "metadata": {},
   "outputs": [
    {
     "data": {
      "image/png": "[encoded data removed]",
      "text/plain": [
       "<Figure size 432x288 with 1 Axes>"
      ]
     },
     "metadata": {
      "needs_background": "light"
     },
     "output_type": "display_data"
    }
   ],
   "source": [
    "def g(x):\n",
    "    return np.log(2+x**2)\n",
    "\n",
    "a=0 ; b=2.5\n",
    "xp=np.linspace(a,b,100)\n",
    "plt.plot(xp,g(xp),'r')\n",
    "plt.show()"
   ]
  },
  {
   "cell_type": "code",
   "execution_count": 25,
   "metadata": {},
   "outputs": [
    {
     "name": "stdout",
     "output_type": "stream",
     "text": [
      "3.2623248115830976\n"
     ]
    }
   ],
   "source": [
    "exactg, prec=quad(g,0,2.5)\n",
    "print(exactg)"
   ]
  },
  {
   "cell_type": "code",
   "execution_count": 26,
   "metadata": {},
   "outputs": [
    {
     "name": "stdout",
     "output_type": "stream",
     "text": [
      "3.262324828299024\n",
      "3.2623248125355917\n"
     ]
    }
   ],
   "source": [
    "print(intsimpsoncompose(g,0,2.5,16))\n",
    "print(intsimpsoncompose(g,0,2.5,32))\n"
   ]
  },
  {
   "cell_type": "code",
   "execution_count": 27,
   "metadata": {},
   "outputs": [
    {
     "name": "stdout",
     "output_type": "stream",
     "text": [
      "1.671592642082942e-08\n",
      "9.524940836058704e-10\n"
     ]
    }
   ],
   "source": [
    "print(erreursimpson(g,0,2.5,16,exactg))\n",
    "print(erreursimpson(g,0,2.5,32,exactg))"
   ]
  },
  {
   "cell_type": "markdown",
   "metadata": {},
   "source": [
    "On remarque sur ce second exemple que cette propriété est encore vérifiéé\n",
    "On remarque pour la méthode simpson , que pour une solution à 10^-x près , il faut 2x sous intervalles à peu près "
   ]
  }
 ],
 "metadata": {
  "kernelspec": {
   "display_name": "Python 3",
   "language": "python",
   "name": "python3"
  },
  "language_info": {
   "codemirror_mode": {
    "name": "ipython",
    "version": 3
   },
   "file_extension": ".py",
   "mimetype": "text/x-python",
   "name": "python",
   "nbconvert_exporter": "python",
   "pygments_lexer": "ipython3",
   "version": "3.7.4"
  }
 },
 "nbformat": 4,
 "nbformat_minor": 2
}
