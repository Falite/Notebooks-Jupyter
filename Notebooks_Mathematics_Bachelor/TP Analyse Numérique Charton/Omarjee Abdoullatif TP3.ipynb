{
 "cells": [
  {
   "cell_type": "markdown",
   "metadata": {},
   "source": [
    "# Travaux pratiques d'analyse numérique n° 3\n",
    "\n",
    "\n",
    "## Manipulation sur les lignes\n",
    "Éxécutez les cellules suivantes une par une"
   ]
  },
  {
   "cell_type": "code",
   "execution_count": 3,
   "metadata": {},
   "outputs": [
    {
     "data": {
      "text/plain": [
       "array([[ 1,  2, -1],\n",
       "       [ 0, -3,  3],\n",
       "       [ 0,  2,  0]])"
      ]
     },
     "execution_count": 3,
     "metadata": {},
     "output_type": "execute_result"
    }
   ],
   "source": [
    "from numpy import *\n",
    "# illustration de la methode LU\n",
    "# traitement de la premiere colonne\n",
    "A=  array([[1, 2, -1], [2, 1, 1],[-1, 0, 1]]) # On a A , d'après la méthode du pivot de Gauss, on choisit une ligne\n",
    "M1= array([[1, 0, 0],[-2, 1, 0],[1, 0, 1]])   # laquelle on l'utilise en pivot pour la première colonne.\n",
    "U1= M1@A                                      # On cherche les opérations en ligne qu'on veut utiliser pour \n",
    "                                              # neutraliser la premiere colonne , qu'on applique a la matrice \n",
    "                                              # identité.\n",
    "                                              # On appelle la matrice en question \"M1\" il nous suffit de faire le\n",
    "                                              # produit matriciel entre A et M1 , on. obtient ainsi U1\n",
    "                                              # Notons qu'en effet , la méthode \"traditionelle\" du pivot de Gauss\n",
    "                                              # revient a faire le produit matricielle de A et M ( telle qu'on l'a\n",
    "                                              # définit ci dessus )\n",
    "U1"
   ]
  },
  {
   "cell_type": "code",
   "execution_count": 4,
   "metadata": {},
   "outputs": [
    {
     "data": {
      "text/plain": [
       "array([[ 1.,  2., -1.],\n",
       "       [ 0., -3.,  3.],\n",
       "       [ 0.,  0.,  2.]])"
      ]
     },
     "execution_count": 4,
     "metadata": {},
     "output_type": "execute_result"
    }
   ],
   "source": [
    "# Traitement de la deuxieme colonne\n",
    "M2= array([[1, 0, 0],[0, 1, 0],[0, 2/3, 1]]) # De la même manière qu'on a fait pour la première colonne , on définit\n",
    "                                             # M2 à partir de U1 obtenu precedemment, on obtient ainsi la \n",
    "                                             # factorisation U qui est ici U2 \n",
    "U2= M2@U1\n",
    "U2"
   ]
  },
  {
   "cell_type": "code",
   "execution_count": 5,
   "metadata": {},
   "outputs": [
    {
     "data": {
      "text/plain": [
       "array([[ 1., -0., -0.],\n",
       "       [ 2.,  1.,  0.],\n",
       "       [-1.,  0.,  1.]])"
      ]
     },
     "execution_count": 5,
     "metadata": {},
     "output_type": "execute_result"
    }
   ],
   "source": [
    "# inverses des manipulations de lignes\n",
    "L1=linalg.inv(M1)                           # On définit L1 comme étant l'inverse de la matrice M1, qui est \n",
    "                                            # l'identité à  laquelle on a appliqué les opérations pour neutraliser\n",
    "                                            # la première colonne de A\n",
    "L1                                          # ce calcul est simple car la matrice M1 est triangulaire"
   ]
  },
  {
   "cell_type": "code",
   "execution_count": 6,
   "metadata": {},
   "outputs": [
    {
     "data": {
      "text/plain": [
       "array([[ 1,  0,  0],\n",
       "       [-2,  1,  0],\n",
       "       [ 1,  0,  1]])"
      ]
     },
     "execution_count": 6,
     "metadata": {},
     "output_type": "execute_result"
    }
   ],
   "source": [
    "M1"
   ]
  },
  {
   "cell_type": "code",
   "execution_count": 7,
   "metadata": {},
   "outputs": [
    {
     "data": {
      "text/plain": [
       "array([[ 1.        ,  0.        ,  0.        ],\n",
       "       [ 0.        ,  1.        ,  0.        ],\n",
       "       [ 0.        , -0.66666667,  1.        ]])"
      ]
     },
     "execution_count": 7,
     "metadata": {},
     "output_type": "execute_result"
    }
   ],
   "source": [
    "L2=linalg.inv(M2)                        # idem pour L2 , qui est cette fois ci l'inverse de la matrice identité à \n",
    "                                         # laquelle on a appliqué les opérations pour neutraliser la deuxième colonne\n",
    "                                         # de U1\n",
    "L2                                       # la matrice est toujours triangulaire"
   ]
  },
  {
   "cell_type": "code",
   "execution_count": 8,
   "metadata": {},
   "outputs": [
    {
     "data": {
      "text/plain": [
       "array([[1.        , 0.        , 0.        ],\n",
       "       [0.        , 1.        , 0.        ],\n",
       "       [0.        , 0.66666667, 1.        ]])"
      ]
     },
     "execution_count": 8,
     "metadata": {},
     "output_type": "execute_result"
    }
   ],
   "source": [
    "M2"
   ]
  },
  {
   "cell_type": "code",
   "execution_count": 9,
   "metadata": {},
   "outputs": [
    {
     "data": {
      "text/plain": [
       "array([[ 1.        ,  0.        ,  0.        ],\n",
       "       [ 2.        ,  1.        ,  0.        ],\n",
       "       [-1.        , -0.66666667,  1.        ]])"
      ]
     },
     "execution_count": 9,
     "metadata": {},
     "output_type": "execute_result"
    }
   ],
   "source": [
    "# factorisation LU\n",
    "U=U2\n",
    "L=L1 @ L2                               # On remarque que le produit matriciel de L1 et L2 est la matrice L\n",
    "                                        # correspondante à la factorisation en LU de A\n",
    "L"
   ]
  },
  {
   "cell_type": "code",
   "execution_count": 10,
   "metadata": {},
   "outputs": [
    {
     "data": {
      "text/plain": [
       "array([[ 1.,  2., -1.],\n",
       "       [ 2.,  1.,  1.],\n",
       "       [-1.,  0.,  1.]])"
      ]
     },
     "execution_count": 10,
     "metadata": {},
     "output_type": "execute_result"
    }
   ],
   "source": [
    "around(L @ U)                         # Enfin on remarque que L*U est bien A "
   ]
  },
  {
   "cell_type": "code",
   "execution_count": 11,
   "metadata": {},
   "outputs": [
    {
     "data": {
      "text/plain": [
       "array([[ 1,  2, -1],\n",
       "       [ 2,  1,  1],\n",
       "       [-1,  0,  1]])"
      ]
     },
     "execution_count": 11,
     "metadata": {},
     "output_type": "execute_result"
    }
   ],
   "source": [
    "A"
   ]
  },
  {
   "cell_type": "markdown",
   "metadata": {},
   "source": [
    "Sur ce script, on constate :\n",
    "- que les manipulations sur les lignes lors d'une étape du pivot\n",
    "  de Gauss peuvent être représentées par la multiplication à gauche de\n",
    "  la matrice $A$ par une matrice très simple ($M1$ puis $M2$).\n",
    "- que les matrices $M1$ et $M2$ sont faciles à inverser, et que le\n",
    "  produit des inverses est également simple à calculer.\n",
    "  \n",
    "À partir de ces observations, expliquer comment réaliser la\n",
    "factorisation d'une matrice $LU=A$ à partir de la méthode du pivot de Gauss.\n",
    "\n",
    "\n",
    "réponse : Si on reprend le calcul , on a fait A*M1=U1 Or M1 est inversible car triangulaire\n",
    "Donc A=U1*(M1)^-1 autrement dit A est U1 multiplié par l'inverse de M1 \n",
    "ensuite , U1*M2=U2 et de la même manière , M2 est inversible car triangulaire \n",
    "On en déduit que U1 = U2*(M2)^-1 autrement dit U1 est U2 multiplié par l'inverse de M2\n",
    "En regroupant, on a l'égalité entre A et U multiplié au produit des inverses de M1 et M2 , et c'est de cette manière qu'on définit L\n",
    "Par construction, on a ainsi que A=LU \n",
    "\n",
    "Notons bien : ces opérations sont correctes car GLn(R) est un groupe ( non commutatif ) : c'est le groupe général linéaire de R "
   ]
  },
  {
   "cell_type": "code",
   "execution_count": null,
   "metadata": {},
   "outputs": [],
   "source": []
  },
  {
   "cell_type": "markdown",
   "metadata": {},
   "source": [
    "## choix des pivots\n",
    "Adapter le script précédent pour qu'il réalise la factorisation $LU$\n",
    "de la matrice $A$ suivante :"
   ]
  },
  {
   "cell_type": "code",
   "execution_count": 13,
   "metadata": {},
   "outputs": [
    {
     "data": {
      "text/plain": [
       "array([[1.e-17, 1.e+00],\n",
       "       [1.e+00, 1.e+00]])"
      ]
     },
     "execution_count": 13,
     "metadata": {},
     "output_type": "execute_result"
    }
   ],
   "source": [
    "A = array([[1e-17,1],[1,1]])    #On va refaire exactement le même script qu'en première partie \n"
   ]
  },
  {
   "cell_type": "code",
   "execution_count": 19,
   "metadata": {},
   "outputs": [
    {
     "data": {
      "text/plain": [
       "array([[ 1.e+00,  0.e+00],\n",
       "       [-1.e+17,  1.e+00]])"
      ]
     },
     "execution_count": 19,
     "metadata": {},
     "output_type": "execute_result"
    }
   ],
   "source": [
    "M = array([[1,0],[-10e16,1]])\n",
    "M"
   ]
  },
  {
   "cell_type": "code",
   "execution_count": 20,
   "metadata": {},
   "outputs": [
    {
     "data": {
      "text/plain": [
       "array([[ 1.e-17,  1.e+00],\n",
       "       [ 0.e+00, -1.e+17]])"
      ]
     },
     "execution_count": 20,
     "metadata": {},
     "output_type": "execute_result"
    }
   ],
   "source": [
    "U = M@A\n",
    "U"
   ]
  },
  {
   "cell_type": "code",
   "execution_count": 21,
   "metadata": {},
   "outputs": [
    {
     "data": {
      "text/plain": [
       "array([[ 1.e+00, -0.e+00],\n",
       "       [ 1.e+17,  1.e+00]])"
      ]
     },
     "execution_count": 21,
     "metadata": {},
     "output_type": "execute_result"
    }
   ],
   "source": [
    "L = linalg.inv(M)\n",
    "L"
   ]
  },
  {
   "cell_type": "code",
   "execution_count": 23,
   "metadata": {},
   "outputs": [
    {
     "data": {
      "text/plain": [
       "array([[1.e-17, 1.e+00],\n",
       "       [1.e+00, 0.e+00]])"
      ]
     },
     "execution_count": 23,
     "metadata": {},
     "output_type": "execute_result"
    }
   ],
   "source": [
    "L@U                              "
   ]
  },
  {
   "cell_type": "code",
   "execution_count": 24,
   "metadata": {},
   "outputs": [
    {
     "data": {
      "text/plain": [
       "array([[1.e-17, 1.e+00],\n",
       "       [1.e+00, 1.e+00]])"
      ]
     },
     "execution_count": 24,
     "metadata": {},
     "output_type": "execute_result"
    }
   ],
   "source": [
    "A"
   ]
  },
  {
   "cell_type": "raw",
   "metadata": {},
   "source": [
    "Utiliser cette factorisation pour résoudre le système $Ax=b$ avec"
   ]
  },
  {
   "cell_type": "code",
   "execution_count": 25,
   "metadata": {},
   "outputs": [],
   "source": [
    "b=array([1,2])"
   ]
  },
  {
   "cell_type": "code",
   "execution_count": 31,
   "metadata": {},
   "outputs": [
    {
     "data": {
      "text/plain": [
       "array([ 1.e+00, -1.e+17])"
      ]
     },
     "execution_count": 31,
     "metadata": {},
     "output_type": "execute_result"
    }
   ],
   "source": [
    "y=M@b                               #GLn(R) n'est quasiment jamais commutatif , on doit faire attention à l'odre du\n",
    "                                    # produit , pour le reste, on utilise la méthode de résolution vue en cours\n",
    "y"
   ]
  },
  {
   "cell_type": "code",
   "execution_count": 33,
   "metadata": {},
   "outputs": [
    {
     "data": {
      "text/plain": [
       "array([0., 1.])"
      ]
     },
     "execution_count": 33,
     "metadata": {},
     "output_type": "execute_result"
    }
   ],
   "source": [
    "x=linalg.inv(U)@y\n",
    "x"
   ]
  },
  {
   "cell_type": "code",
   "execution_count": 35,
   "metadata": {},
   "outputs": [
    {
     "data": {
      "text/plain": [
       "array([1., 1.])"
      ]
     },
     "execution_count": 35,
     "metadata": {},
     "output_type": "execute_result"
    }
   ],
   "source": [
    "linalg.solve(A,b)"
   ]
  },
  {
   "cell_type": "markdown",
   "metadata": {},
   "source": [
    "Que constatez-vous ?"
   ]
  },
  {
   "cell_type": "code",
   "execution_count": null,
   "metadata": {},
   "outputs": [],
   "source": [
    "# le résultat est faux : la méthode de résolution ne permet pas l'application à des matrices à termes infiniment \n",
    "# petits .\n",
    " "
   ]
  },
  {
   "cell_type": "markdown",
   "metadata": {},
   "source": [
    "Refaire l'expérience en échangeant les deux lignes du système."
   ]
  },
  {
   "cell_type": "code",
   "execution_count": 38,
   "metadata": {},
   "outputs": [
    {
     "data": {
      "text/plain": [
       "array([[0, 1],\n",
       "       [1, 0]])"
      ]
     },
     "execution_count": 38,
     "metadata": {},
     "output_type": "execute_result"
    }
   ],
   "source": [
    "I=array([[0,1],[1,0]])        #La matrice permettant de permuter les lignes est celle ci\n",
    "I"
   ]
  },
  {
   "cell_type": "code",
   "execution_count": 41,
   "metadata": {},
   "outputs": [
    {
     "data": {
      "text/plain": [
       "array([[1.e+00, 1.e+00],\n",
       "       [1.e+00, 1.e-17]])"
      ]
     },
     "execution_count": 41,
     "metadata": {},
     "output_type": "execute_result"
    }
   ],
   "source": [
    "A2=A@I                         # On appelle la nouvelle matrice \"A2\"\n",
    "A2"
   ]
  },
  {
   "cell_type": "code",
   "execution_count": 44,
   "metadata": {},
   "outputs": [
    {
     "data": {
      "text/plain": [
       "array([[-1.e+17, -1.e+17],\n",
       "       [ 1.e+00,  1.e-17]])"
      ]
     },
     "execution_count": 44,
     "metadata": {},
     "output_type": "execute_result"
    }
   ],
   "source": [
    "M2=array([[1-10e16,0],[0,1]]) # On refait exactement les mêmes calculs que les deux premières parties\n",
    "U2=M2@A2\n",
    "U2"
   ]
  },
  {
   "cell_type": "code",
   "execution_count": 45,
   "metadata": {},
   "outputs": [
    {
     "data": {
      "text/plain": [
       "array([[-1.e-17, -0.e+00],\n",
       "       [ 0.e+00,  1.e+00]])"
      ]
     },
     "execution_count": 45,
     "metadata": {},
     "output_type": "execute_result"
    }
   ],
   "source": [
    "L2=linalg.inv(M2)           \n",
    "L2"
   ]
  },
  {
   "cell_type": "code",
   "execution_count": 51,
   "metadata": {},
   "outputs": [
    {
     "data": {
      "text/plain": [
       "array([-1.e+17,  2.e+00])"
      ]
     },
     "execution_count": 51,
     "metadata": {},
     "output_type": "execute_result"
    }
   ],
   "source": [
    "y=M2@b\n",
    "y"
   ]
  },
  {
   "cell_type": "code",
   "execution_count": 52,
   "metadata": {},
   "outputs": [
    {
     "data": {
      "text/plain": [
       "array([ 2., -1.])"
      ]
     },
     "execution_count": 52,
     "metadata": {},
     "output_type": "execute_result"
    }
   ],
   "source": [
    "x=linalg.inv(U2)@y\n",
    "x"
   ]
  },
  {
   "cell_type": "code",
   "execution_count": 50,
   "metadata": {},
   "outputs": [
    {
     "data": {
      "text/plain": [
       "array([ 2., -1.])"
      ]
     },
     "execution_count": 50,
     "metadata": {},
     "output_type": "execute_result"
    }
   ],
   "source": [
    "linalg.solve(A2,b)"
   ]
  },
  {
   "cell_type": "code",
   "execution_count": null,
   "metadata": {},
   "outputs": [],
   "source": [
    "# cette fois le script marche bien"
   ]
  },
  {
   "cell_type": "code",
   "execution_count": null,
   "metadata": {},
   "outputs": [],
   "source": [
    "\n",
    "\n",
    "## Programmation\n",
    "Réaliser une fonction calculant la factorisation $LU$ d'une matrice en\n",
    "choisissant à chaque étape le pivot le plus grand en valeur absolue.\n",
    "\n",
    "Tester cette fonction sur la matrice :"
   ]
  },
  {
   "cell_type": "code",
   "execution_count": null,
   "metadata": {},
   "outputs": [],
   "source": [
    "def f(A):\n",
    "    M= identity(linalg.matricx_rank(A))\n",
    "    "
   ]
  },
  {
   "cell_type": "code",
   "execution_count": null,
   "metadata": {},
   "outputs": [],
   "source": [
    "A=array([[2.,0,4,1],[1,3,3,0],[1,2,2,0],[2,3,3,3]])"
   ]
  }
 ],
 "metadata": {
  "kernelspec": {
   "display_name": "Python 3",
   "language": "python",
   "name": "python3"
  },
  "language_info": {
   "codemirror_mode": {
    "name": "ipython",
    "version": 3
   },
   "file_extension": ".py",
   "mimetype": "text/x-python",
   "name": "python",
   "nbconvert_exporter": "python",
   "pygments_lexer": "ipython3",
   "version": "3.7.4"
  }
 },
 "nbformat": 4,
 "nbformat_minor": 4
}
