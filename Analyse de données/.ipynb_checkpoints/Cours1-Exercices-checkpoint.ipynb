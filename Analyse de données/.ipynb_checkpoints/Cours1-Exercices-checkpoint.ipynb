{
 "cells": [
  {
   "cell_type": "markdown",
   "metadata": {},
   "source": [
    "<center><img src=\"https://file.diplomeo-static.com/file/00/00/01/34/13431.svg\" alt=\"drawing\" style=\"width:100px;\"/></center>\n",
    "\n",
    "# Introduction à Python pour la Data Science\n",
    "\n",
    "## Exercices de découverte de Python"
   ]
  },
  {
   "cell_type": "markdown",
   "metadata": {},
   "source": [
    "## Exercice 1\n",
    "Soit les vecteurs :"
   ]
  },
  {
   "cell_type": "code",
   "execution_count": 2,
   "metadata": {
    "tags": []
   },
   "outputs": [],
   "source": [
    "v1 = [3, 2, 7,55]\n",
    "v2 = [6,8,5,6]"
   ]
  },
  {
   "cell_type": "code",
   "execution_count": 16,
   "metadata": {
    "tags": []
   },
   "outputs": [
    {
     "data": {
      "text/plain": [
       "[9, 10, 12, 61]"
      ]
     },
     "execution_count": 16,
     "metadata": {},
     "output_type": "execute_result"
    }
   ],
   "source": [
    "v3 = [0,0,0,0]\n",
    "for i in range(len(v1)):\n",
    "    v3[i]=v1[i]+v2[i]\n",
    "v3"
   ]
  },
  {
   "cell_type": "code",
   "execution_count": 19,
   "metadata": {
    "tags": []
   },
   "outputs": [
    {
     "data": {
      "text/plain": [
       "[18, 16, 35, 330]"
      ]
     },
     "execution_count": 19,
     "metadata": {},
     "output_type": "execute_result"
    }
   ],
   "source": [
    "v4 = [0,0,0,0]\n",
    "for i in range(len(v1)):\n",
    "    v4[i]=v1[i]*v2[i]\n",
    "v4"
   ]
  },
  {
   "cell_type": "code",
   "execution_count": 22,
   "metadata": {
    "tags": []
   },
   "outputs": [
    {
     "data": {
      "text/plain": [
       "[11, 10, 15, 55]"
      ]
     },
     "execution_count": 22,
     "metadata": {},
     "output_type": "execute_result"
    }
   ],
   "source": [
    "for i in range(len(v1)):\n",
    "    if v1[i]<30:\n",
    "        v1[i]+=4\n",
    "v1"
   ]
  },
  {
   "cell_type": "markdown",
   "metadata": {},
   "source": [
    "- Faire la somme de v1 et v2 et conserver le résultat dans une variable v3. \n",
    "- Réaliser le produit des éléments de v2\n",
    "- Rajouter 4 dans v1 à toutes les valeurs inférieur à 30"
   ]
  },
  {
   "cell_type": "markdown",
   "metadata": {},
   "source": [
    "## Exercice 2\n",
    "- Créer deux listes list1 et list2 contenant chacune le nom, prenom, age d’une personne fictive.\n",
    "- Les regrouper dans une même liste \"couple\".\n",
    "- Afficher indépendamment leur nom et prénom."
   ]
  },
  {
   "cell_type": "markdown",
   "metadata": {},
   "source": [
    "## Exercice 3\n",
    "Soit la liste : "
   ]
  },
  {
   "cell_type": "code",
   "execution_count": 25,
   "metadata": {
    "tags": []
   },
   "outputs": [],
   "source": [
    "liste = [17, 38, 10, 25, 72]"
   ]
  },
  {
   "cell_type": "code",
   "execution_count": 26,
   "metadata": {
    "tags": []
   },
   "outputs": [
    {
     "data": {
      "text/plain": [
       "[10, 17, 25, 38, 72]"
      ]
     },
     "execution_count": 26,
     "metadata": {},
     "output_type": "execute_result"
    }
   ],
   "source": [
    "liste.sort()\n",
    "liste"
   ]
  },
  {
   "cell_type": "code",
   "execution_count": 27,
   "metadata": {
    "tags": []
   },
   "outputs": [
    {
     "data": {
      "text/plain": [
       "[10, 17, 25, 38, 72, 12]"
      ]
     },
     "execution_count": 27,
     "metadata": {},
     "output_type": "execute_result"
    }
   ],
   "source": [
    "liste.append(12)\n",
    "liste"
   ]
  },
  {
   "cell_type": "code",
   "execution_count": 29,
   "metadata": {
    "tags": []
   },
   "outputs": [
    {
     "data": {
      "text/plain": [
       "1"
      ]
     },
     "execution_count": 29,
     "metadata": {},
     "output_type": "execute_result"
    }
   ],
   "source": [
    "liste.index(17)"
   ]
  },
  {
   "cell_type": "code",
   "execution_count": 30,
   "metadata": {
    "tags": []
   },
   "outputs": [
    {
     "data": {
      "text/plain": [
       "[10, 17, 25, 72, 12]"
      ]
     },
     "execution_count": 30,
     "metadata": {},
     "output_type": "execute_result"
    }
   ],
   "source": [
    "liste.remove(38)\n",
    "liste"
   ]
  },
  {
   "cell_type": "code",
   "execution_count": 34,
   "metadata": {
    "tags": []
   },
   "outputs": [
    {
     "data": {
      "text/plain": [
       "[17, 25]"
      ]
     },
     "execution_count": 34,
     "metadata": {},
     "output_type": "execute_result"
    }
   ],
   "source": [
    "liste[1:3]  #deuxieme et 3eme element"
   ]
  },
  {
   "cell_type": "code",
   "execution_count": 35,
   "metadata": {
    "tags": []
   },
   "outputs": [
    {
     "data": {
      "text/plain": [
       "[10, 17]"
      ]
     },
     "execution_count": 35,
     "metadata": {},
     "output_type": "execute_result"
    }
   ],
   "source": [
    "liste[0:2]"
   ]
  },
  {
   "cell_type": "code",
   "execution_count": 37,
   "metadata": {
    "tags": []
   },
   "outputs": [
    {
     "data": {
      "text/plain": [
       "[25, 72, 12]"
      ]
     },
     "execution_count": 37,
     "metadata": {},
     "output_type": "execute_result"
    }
   ],
   "source": [
    "liste[2:len(liste)] #du troisieme au dernier element"
   ]
  },
  {
   "cell_type": "code",
   "execution_count": 38,
   "metadata": {
    "tags": []
   },
   "outputs": [
    {
     "data": {
      "text/plain": [
       "[10, 17, 25, 72, 12]"
      ]
     },
     "execution_count": 38,
     "metadata": {},
     "output_type": "execute_result"
    }
   ],
   "source": [
    "liste[0:len(liste)]"
   ]
  },
  {
   "cell_type": "code",
   "execution_count": 39,
   "metadata": {
    "tags": []
   },
   "outputs": [
    {
     "data": {
      "text/plain": [
       "12"
      ]
     },
     "execution_count": 39,
     "metadata": {},
     "output_type": "execute_result"
    }
   ],
   "source": [
    "liste[-1]"
   ]
  },
  {
   "cell_type": "markdown",
   "metadata": {},
   "source": [
    "- trier et afficher la liste ;\n",
    "- ajouter l’élément 12 à la liste et afficher la liste ;\n",
    "- renverser et afficher la liste ;\n",
    "- afficher l’indice de l’élément 17 ;\n",
    "- enlever l’élément 38 et afficher la liste ;\n",
    "- afficher la sous-liste du 2éme 3eme élément ;\n",
    "- afficher la sous-liste du début au 2e élément ;\n",
    "- afficher la sous-liste du 3e élément à la fin de la liste ;\n",
    "- afficher la sous-liste complète de la liste ;\n",
    "- afficher le dernier élément en utilisant un indiçage négatif."
   ]
  },
  {
   "cell_type": "markdown",
   "metadata": {},
   "source": [
    "## Exercice 4\n",
    "\n",
    "Créer un tableau « Donnee» de 3 colonnes et 6 lignes telles que :\n",
    "- la première colonne contienne la variable taille en cm,\n",
    "- la deuxième colonne contienne la variable poids,\n",
    "- la troisième colonne soit un facteur indiquant le sexe de l'individu.\n",
    "- Utiliser un DataFrame Pandas"
   ]
  },
  {
   "cell_type": "code",
   "execution_count": 40,
   "metadata": {
    "tags": []
   },
   "outputs": [],
   "source": [
    "import pandas as pd"
   ]
  },
  {
   "cell_type": "markdown",
   "metadata": {},
   "source": [
    "- Nommer les colonnes de ce tableau de manière adéquate.\n",
    "- Calculer une variable IMC tel que IMC = poids / taille^2 et l’intégrer dans le tableau donnee\n",
    "- Quel est l’IMC moyen ?\n",
    "- Combien-y-a-t-il de femme et d’homme ? "
   ]
  },
  {
   "cell_type": "markdown",
   "metadata": {},
   "source": [
    "## Exercice 5\n",
    "Initialisez deux entiers : a = 0 et b = 10.\n",
    "Écrire une boucle affichant et incrémentant la valeur de a tant qu’elle reste inférieure\n",
    "à celle de b.\n",
    "Écrire une autre boucle décrémentant la valeur de b et affichant sa valeur si elle est\n",
    "impaire. Boucler tant que b n’est pas nul."
   ]
  },
  {
   "cell_type": "code",
   "execution_count": 41,
   "metadata": {
    "tags": []
   },
   "outputs": [
    {
     "data": {
      "text/plain": [
       "10"
      ]
     },
     "execution_count": 41,
     "metadata": {},
     "output_type": "execute_result"
    }
   ],
   "source": [
    "a = 0\n",
    "b = 10\n",
    "while a<b:\n",
    "    a+=1\n",
    "a"
   ]
  },
  {
   "cell_type": "code",
   "execution_count": 43,
   "metadata": {
    "tags": []
   },
   "outputs": [
    {
     "data": {
      "text/plain": [
       "0"
      ]
     },
     "execution_count": 43,
     "metadata": {},
     "output_type": "execute_result"
    }
   ],
   "source": [
    "a=0\n",
    "while a<b:\n",
    "    b-=1\n",
    "b"
   ]
  },
  {
   "cell_type": "markdown",
   "metadata": {},
   "source": [
    "## Exercice 6\n",
    "\n",
    "Ecrire une fonction « CalculTarif » qui prend pour argument une valeur d’âge et qui affiche : « demi-‐tarif » si l’âge est inférieur à 12 ans, « tarif sénior » si l’âge est supérieur à 60 ans et « plein tarif » sinon. \n",
    "\n",
    "- Tester votre fonction pour des personnes de 5, 65, 85, 41, 23, 47 ans.\n"
   ]
  },
  {
   "cell_type": "code",
   "execution_count": 44,
   "metadata": {
    "tags": []
   },
   "outputs": [
    {
     "name": "stdout",
     "output_type": "stream",
     "text": [
      "demi--tarif\n",
      "tarif senior\n",
      "tarif senior\n",
      "plein tarif cheh\n",
      "plein tarif cheh\n",
      "plein tarif cheh\n"
     ]
    }
   ],
   "source": [
    "def CalculTarif(age):\n",
    "    if age<12 :\n",
    "        print(\"demi--tarif\")\n",
    "    elif age>60 :\n",
    "        print(\"tarif senior\")\n",
    "    else: \n",
    "        print(\"plein tarif cheh\")\n",
    "    \n",
    "liste=[5,65,85,41,23,47]\n",
    "for i in range(len(liste)):\n",
    "    CalculTarif(liste[i])"
   ]
  },
  {
   "cell_type": "markdown",
   "metadata": {},
   "source": [
    "## Exercice 7\n",
    "\n",
    "Créer une fonction « formule » qui prend en argument une valeur de X et qui donne en sortie la valeur de Y associée.  \n",
    "Calculer la liste « Youtput » des valeurs de Y associées aux valeurs de X = 15, 89, 56, 78, 152, 66, 48, 77, 2, 96.\n",
    "\n",
    "PV = nRT avec les unités suivantes (généralement utilisées):\n",
    "- P = pression du gaz en Pa\n",
    "- V = volume en m3\n",
    "- n = quantité de matière en mol\n",
    "- T = température absolue en K (Kelvins)\n",
    "- R = 8.314 SI (si les unités utilisées sont celles ci-dessus)"
   ]
  },
  {
   "cell_type": "code",
   "execution_count": 50,
   "metadata": {
    "tags": []
   },
   "outputs": [
    {
     "data": {
      "text/plain": [
       "[0.48, 2.85, 1.79, 2.5, 4.86, 2.11, 1.54, 2.46, 0.06, 3.07]"
      ]
     },
     "execution_count": 50,
     "metadata": {},
     "output_type": "execute_result"
    }
   ],
   "source": [
    "def formule(X):\n",
    "    P = 78\n",
    "    T = 293.15\n",
    "    R = 8.314\n",
    "    return (P*X)/(R*T)\n",
    "\n",
    "X = [ 15, 89, 56, 78, 152, 66, 48, 77, 2, 96 ]\n",
    "Y = []\n",
    "for i in range(len(X)):\n",
    "    temp = round(formule(X[i]),2)\n",
    "    Y.append(temp)\n",
    "Y"
   ]
  },
  {
   "cell_type": "markdown",
   "metadata": {},
   "source": [
    "## Exercice  8\n",
    "\n",
    "Créer une fonction qui identifie les mots ou phrases palindromiques (mots ou phrases qui se lisent dans les deux sens, par exemple RADAR). \n",
    "\n",
    "Cette fonction prendra comme argument le mot « mot » et retournera les phrases : « mot est un palindrome » si le mot = palindrome et « mot n’est pas un palindrome », sinon. \n",
    "- Appliquer votre fonction sur les mots « radar », « hannah », « sept », « kayak », « la mariée ira mal », « capitaine », « engage le jeu que je le gagne »."
   ]
  },
  {
   "cell_type": "code",
   "execution_count": 96,
   "metadata": {
    "tags": []
   },
   "outputs": [
    {
     "name": "stdout",
     "output_type": "stream",
     "text": [
      "mot n'est pas un palindrome\n",
      "mot n'est pas un palindrome\n",
      "mot n'est pas un palindrome\n",
      "mot n'est pas un palindrome\n",
      "mot n'est pas un palindrome\n",
      "mot n'est pas un palindrome\n",
      "mot n'est pas un palindrome\n"
     ]
    }
   ],
   "source": [
    "def palind(mot):\n",
    "    verite=1\n",
    "    for i in range(len(mot)//2):\n",
    "        if mot[i]==' ' or mot[-i-1]==' ':\n",
    "            if mot[i]!=mot[-i-1]:\n",
    "                verite=1\n",
    "            else:\n",
    "                verite=0\n",
    "    if verite>0:\n",
    "        print(\"mot n'est pas un palindrome\")\n",
    "    else:\n",
    "        print(\"mot est un palindrome\")\n",
    "\n",
    "listemots = [ \"radar\", \"hannah\", \"sept\", \"kayak\", \"la mariee ira mal\", \"capitaine\", \"engage le jeu que je le gagne\" ]\n",
    "\n",
    "for i in range(len(listemots)):\n",
    "    palind(listemots[i])"
   ]
  },
  {
   "cell_type": "code",
   "execution_count": 94,
   "metadata": {
    "tags": []
   },
   "outputs": [
    {
     "name": "stdout",
     "output_type": "stream",
     "text": [
      "mot est un palindrome\n",
      "mot est un palindrome\n",
      "mot n'est pas un palindrome\n",
      "mot est un palindrome\n",
      "mot est un palindrome\n",
      "mot n'est pas un palindrome\n",
      "mot est un palindrome\n"
     ]
    }
   ],
   "source": [
    "def palind2(mot):\n",
    "    listemomo=list(mot)\n",
    "    listemo = [char for char in listemomo if char !=' ']\n",
    "    listemot=listemo[::-1]\n",
    "    if listemo!=listemot:\n",
    "        print(\"mot n'est pas un palindrome\")\n",
    "    else : \n",
    "        print(\"mot est un palindrome\")\n",
    "    \n",
    "for i in range(len(listemots)):\n",
    "    palind2(listemots[i])"
   ]
  },
  {
   "cell_type": "code",
   "execution_count": 92,
   "metadata": {
    "tags": []
   },
   "outputs": [
    {
     "data": {
      "text/plain": [
       "['e',\n",
       " 'n',\n",
       " 'g',\n",
       " 'a',\n",
       " 'g',\n",
       " 'e',\n",
       " 'j',\n",
       " 'e',\n",
       " 'u',\n",
       " 'q',\n",
       " 'u',\n",
       " 'e',\n",
       " 'j',\n",
       " 'e',\n",
       " 'l',\n",
       " 'e',\n",
       " 'g',\n",
       " 'a',\n",
       " 'g',\n",
       " 'n',\n",
       " 'e']"
      ]
     },
     "execution_count": 92,
     "metadata": {},
     "output_type": "execute_result"
    }
   ],
   "source": [
    "LL=list(\"engage le jeu que je gagne\")\n",
    "L=[char for char in LL if char!=' ' ][::-1]\n",
    "L"
   ]
  },
  {
   "cell_type": "markdown",
   "metadata": {},
   "source": [
    "## Exercice 9\n",
    "\n",
    "Écrire une fonction volumeSphere qui calcule le volume d’une sphère de rayon r fourni\n",
    "en argument et qui utilise la fonction cube.\n",
    "- Tester la fonction volumeSphere par un appel dans le programme principal."
   ]
  },
  {
   "cell_type": "code",
   "execution_count": 79,
   "metadata": {
    "tags": []
   },
   "outputs": [
    {
     "name": "stdout",
     "output_type": "stream",
     "text": [
      "14137.17\n",
      "2952967.24\n",
      "735618.58\n",
      "1987798.77\n",
      "14710226.95\n",
      "1204260.43\n",
      "463246.69\n",
      "1912320.96\n",
      "33.51\n",
      "3705973.49\n"
     ]
    }
   ],
   "source": [
    "import math\n",
    "def volumeSphere(rayon):\n",
    "    pi = math.pi\n",
    "    V = (4/3)*pi*(rayon**3)\n",
    "    return round(V,2)\n",
    "\n",
    "for i in range(len(X)):\n",
    "    print(volumeSphere(X[i]))"
   ]
  },
  {
   "cell_type": "code",
   "execution_count": 77,
   "metadata": {
    "tags": []
   },
   "outputs": [
    {
     "data": {
      "text/plain": [
       "[15, 89, 56, 78, 152, 66, 48, 77, 2, 96]"
      ]
     },
     "execution_count": 77,
     "metadata": {},
     "output_type": "execute_result"
    }
   ],
   "source": [
    "X"
   ]
  },
  {
   "cell_type": "markdown",
   "metadata": {
    "jp-MarkdownHeadingCollapsed": true,
    "tags": []
   },
   "source": [
    "## Enseignant\n",
    "\n",
    "Patrice Mazel - patrice.mazel@protonmail.com - 3A MAM 2023/2024"
   ]
  }
 ],
 "metadata": {
  "kernelspec": {
   "display_name": "Python 3 (ipykernel)",
   "language": "python",
   "name": "python3"
  },
  "language_info": {
   "codemirror_mode": {
    "name": "ipython",
    "version": 3
   },
   "file_extension": ".py",
   "mimetype": "text/x-python",
   "name": "python",
   "nbconvert_exporter": "python",
   "pygments_lexer": "ipython3",
   "version": "3.11.5"
  }
 },
 "nbformat": 4,
 "nbformat_minor": 4
}
