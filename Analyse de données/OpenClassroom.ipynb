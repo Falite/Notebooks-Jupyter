{
 "cells": [
  {
   "cell_type": "markdown",
   "id": "52127adb-8c2e-4b1c-8103-6671a898a0fa",
   "metadata": {},
   "source": [
    "# OpenClassrooomCourse"
   ]
  },
  {
   "cell_type": "markdown",
   "id": "fed4c7b8-3544-4ba5-97c0-70982d931a42",
   "metadata": {},
   "source": [
    "Here's a short summary of what I've been able to achieve on the **Open Classroom** course about data analysis\n",
    "https://openclassrooms.com/fr/courses/6204541-initiez-vous-a-python-pour-lanalyse-de-donnees"
   ]
  },
  {
   "cell_type": "code",
   "execution_count": 2,
   "id": "f30e48e1-e00b-474e-acad-2621db6355df",
   "metadata": {
    "tags": []
   },
   "outputs": [
    {
     "data": {
      "text/plain": [
       "14"
      ]
     },
     "execution_count": 2,
     "metadata": {},
     "output_type": "execute_result"
    }
   ],
   "source": [
    "a=14.5  \n",
    "int(a)     #we can return a as an integer"
   ]
  },
  {
   "cell_type": "code",
   "execution_count": 4,
   "id": "0abb0328-0985-427c-98a6-e0d00165406e",
   "metadata": {
    "tags": []
   },
   "outputs": [
    {
     "data": {
      "text/plain": [
       "14"
      ]
     },
     "execution_count": 4,
     "metadata": {},
     "output_type": "execute_result"
    }
   ],
   "source": [
    "a=int(a)  #however , we can change its type\n",
    "a"
   ]
  },
  {
   "cell_type": "code",
   "execution_count": 9,
   "id": "97e191de-c721-4555-ac3f-b38ae29e06ca",
   "metadata": {
    "tags": []
   },
   "outputs": [
    {
     "name": "stdout",
     "output_type": "stream",
     "text": [
      "voici la valeur de a : 14\n"
     ]
    }
   ],
   "source": [
    "print(\"voici la valeur de a : \" + str(a))    #we have to apply str() on a to print it with other str"
   ]
  },
  {
   "cell_type": "code",
   "execution_count": 15,
   "id": "3364e61d-033e-4c12-92d1-face4d64c212",
   "metadata": {
    "tags": []
   },
   "outputs": [
    {
     "data": {
      "text/plain": [
       "True"
      ]
     },
     "execution_count": 15,
     "metadata": {},
     "output_type": "execute_result"
    }
   ],
   "source": [
    "pow(a,3)     #pow() equal to '**'\n",
    "a**3 \n",
    "a**3==pow(a,3)"
   ]
  },
  {
   "cell_type": "code",
   "execution_count": 16,
   "id": "0b5e5c37-aad6-4d83-895c-11619d7c0e5e",
   "metadata": {
    "tags": []
   },
   "outputs": [
    {
     "data": {
      "text/plain": [
       "65"
      ]
     },
     "execution_count": 16,
     "metadata": {},
     "output_type": "execute_result"
    }
   ],
   "source": [
    "b=-65 \n",
    "abs(b)"
   ]
  },
  {
   "cell_type": "code",
   "execution_count": 17,
   "id": "a861bad6-59c6-4fba-b18f-1ddcabe9771c",
   "metadata": {
    "tags": []
   },
   "outputs": [
    {
     "name": "stdout",
     "output_type": "stream",
     "text": [
      "Variable   Type    Data/Info\n",
      "----------------------------\n",
      "a          int     14\n",
      "b          int     -65\n"
     ]
    }
   ],
   "source": [
    "whos"
   ]
  },
  {
   "cell_type": "code",
   "execution_count": 21,
   "id": "02b5ded2-84c6-4700-b938-cc5cb3911569",
   "metadata": {
    "tags": []
   },
   "outputs": [
    {
     "name": "stdout",
     "output_type": "stream",
     "text": [
      "Help on built-in function len in module builtins:\n",
      "\n",
      "len(obj, /)\n",
      "    Return the number of items in a container.\n",
      "\n"
     ]
    }
   ],
   "source": [
    "help(len)      #get documentation about a function "
   ]
  },
  {
   "cell_type": "code",
   "execution_count": 30,
   "id": "29aad0bb-98d1-4ed9-b6bf-f23e0050e37a",
   "metadata": {
    "tags": []
   },
   "outputs": [
    {
     "data": {
      "text/plain": [
       "3"
      ]
     },
     "execution_count": 30,
     "metadata": {},
     "output_type": "execute_result"
    }
   ],
   "source": [
    "dicto={\"Zidane\" : 10,\n",
    "       \"Barthez\" : 1,\n",
    "       \"Djorkaeff\" : 7 }\n",
    "len(dicto)\n"
   ]
  },
  {
   "cell_type": "markdown",
   "id": "06751ff8-05c6-48ee-9bea-2ae2ec122a5a",
   "metadata": {},
   "source": [
    "### exo1 ( list )"
   ]
  },
  {
   "cell_type": "code",
   "execution_count": 23,
   "id": "4f691a57-3896-4325-85d1-750faaec0c00",
   "metadata": {
    "tags": []
   },
   "outputs": [
    {
     "name": "stdout",
     "output_type": "stream",
     "text": [
      "red\n",
      "yellow\n",
      "orange\n",
      "emeraud\n",
      "blue\n"
     ]
    }
   ],
   "source": [
    "colors = [ \"red\",\"yellow\",\"orange\",\"green\",\"blue\" ]\n",
    "colors[3]=\"emeraud\"\n",
    "for i in colors:\n",
    "    print(i)"
   ]
  },
  {
   "cell_type": "markdown",
   "id": "911a64e1-2f06-4eef-a2d8-86cf0b8deacc",
   "metadata": {},
   "source": [
    "## exo2 (list)"
   ]
  },
  {
   "cell_type": "code",
   "execution_count": 25,
   "id": "7d771c36-b59a-4777-8120-ff31450ea55d",
   "metadata": {
    "tags": []
   },
   "outputs": [
    {
     "data": {
      "text/plain": [
       "1"
      ]
     },
     "execution_count": 25,
     "metadata": {},
     "output_type": "execute_result"
    }
   ],
   "source": [
    "invites=[]\n",
    "invites.append(\"Joey\")\n",
    "invites.append(\"Martin\")\n",
    "invites.append(\"Marie\")\n",
    "invites.index(\"Martin\")"
   ]
  },
  {
   "cell_type": "code",
   "execution_count": 26,
   "id": "8e84f42d-d6d0-454b-ac7e-660047ae06ea",
   "metadata": {
    "tags": []
   },
   "outputs": [],
   "source": [
    "invites[1]=\"John\""
   ]
  },
  {
   "cell_type": "code",
   "execution_count": 28,
   "id": "1de31838-d25f-4d69-aec9-087c5ba21669",
   "metadata": {
    "tags": []
   },
   "outputs": [
    {
     "name": "stdout",
     "output_type": "stream",
     "text": [
      "John\n",
      "Marie\n"
     ]
    }
   ],
   "source": [
    "invites.remove(\"Joey\")\n",
    "for i in invites:\n",
    "    print(i)"
   ]
  },
  {
   "cell_type": "code",
   "execution_count": 35,
   "id": "200ea13b-aeb7-4ffc-9a50-2aec0af9f62e",
   "metadata": {
    "tags": []
   },
   "outputs": [
    {
     "name": "stdin",
     "output_type": "stream",
     "text": [
      "what's your name bro Falite\n"
     ]
    },
    {
     "name": "stdout",
     "output_type": "stream",
     "text": [
      "your name is Falite, u are ugly but welcome to the party\n"
     ]
    }
   ],
   "source": [
    "nom=input('what\\'s your name bro')\n",
    "invites.append(nom)\n",
    "print(\"your name is \"+nom+\", u are ugly but welcome to the party\")"
   ]
  },
  {
   "cell_type": "code",
   "execution_count": 36,
   "id": "5f650039-18fd-4d7b-b098-61897f1fe498",
   "metadata": {
    "tags": []
   },
   "outputs": [
    {
     "data": {
      "text/plain": [
       "['John', 'Marie', 'Falite']"
      ]
     },
     "execution_count": 36,
     "metadata": {},
     "output_type": "execute_result"
    }
   ],
   "source": [
    "invites"
   ]
  },
  {
   "cell_type": "markdown",
   "id": "da66c5e0-fcbc-4ac7-86b1-9f80fa40a613",
   "metadata": {},
   "source": [
    "## exo3 (conditional structures)"
   ]
  },
  {
   "cell_type": "code",
   "execution_count": 39,
   "id": "a1998567-de80-4994-adff-8f00ed894404",
   "metadata": {
    "tags": []
   },
   "outputs": [],
   "source": [
    "a=5 ; b=10 ; c=7"
   ]
  },
  {
   "cell_type": "markdown",
   "id": "9e19eaba-5729-45b7-8d1b-9eff40a76db7",
   "metadata": {},
   "source": [
    "we have this code :"
   ]
  },
  {
   "cell_type": "code",
   "execution_count": 41,
   "id": "998d5ad0-2790-4554-a6ac-92189e752d7d",
   "metadata": {
    "tags": []
   },
   "outputs": [
    {
     "name": "stdout",
     "output_type": "stream",
     "text": [
      "c between a and b\n"
     ]
    }
   ],
   "source": [
    "if c<a :\n",
    "    print(\"c lower than a\")\n",
    "if c>b :\n",
    "    print(\"c upper than b\")\n",
    "if c>a and c<b :\n",
    "    print(\"c between a and b\")"
   ]
  },
  {
   "cell_type": "markdown",
   "id": "0ceaffe8-ee62-4d2a-af29-f34c726462d6",
   "metadata": {},
   "source": [
    "rewrite it with if/elif/else :"
   ]
  },
  {
   "cell_type": "code",
   "execution_count": 42,
   "id": "5b5dbb8a-05e7-48f3-b020-f3124f8ab9e8",
   "metadata": {
    "tags": []
   },
   "outputs": [
    {
     "name": "stdout",
     "output_type": "stream",
     "text": [
      "c between a & b\n"
     ]
    }
   ],
   "source": [
    "if c<a :\n",
    "    print(\"c lower than a\")\n",
    "elif c>b : \n",
    "    print(\"c upper than b\")\n",
    "else :\n",
    "    print(\"c between a & b\")"
   ]
  },
  {
   "cell_type": "markdown",
   "id": "8068767e-36a1-49b7-a1d2-261bc0ebb8e5",
   "metadata": {},
   "source": [
    "## exo4 (loops)"
   ]
  },
  {
   "cell_type": "code",
   "execution_count": 43,
   "id": "ef855a0d-7030-4d1b-9c32-f9fcd9173e5f",
   "metadata": {
    "tags": []
   },
   "outputs": [
    {
     "name": "stdout",
     "output_type": "stream",
     "text": [
      "OpenClassroom is great\n",
      "OpenClassroom is great\n",
      "OpenClassroom is great\n",
      "OpenClassroom is great\n",
      "OpenClassroom is great\n"
     ]
    }
   ],
   "source": [
    "for i in range(5):\n",
    "    print(\"OpenClassroom is great\")"
   ]
  },
  {
   "cell_type": "code",
   "execution_count": 46,
   "id": "cf93c930-b4d7-4928-ba59-ae498c6505d8",
   "metadata": {
    "tags": []
   },
   "outputs": [
    {
     "name": "stdout",
     "output_type": "stream",
     "text": [
      "OpenClassroom is great\n",
      "OpenClassroom is great\n",
      "OpenClassroom is great\n",
      "OpenClassroom is great\n",
      "OpenClassroom is great\n"
     ]
    }
   ],
   "source": [
    "i=1\n",
    "while i<=5 :\n",
    "    print(\"OpenClassroom is great\")\n",
    "    i+=1"
   ]
  },
  {
   "cell_type": "code",
   "execution_count": 50,
   "id": "082d2644-61d8-4149-8537-e0a14506e1ab",
   "metadata": {
    "tags": []
   },
   "outputs": [
    {
     "name": "stdout",
     "output_type": "stream",
     "text": [
      "Variable   Type    Data/Info\n",
      "----------------------------\n",
      "a          int     5\n",
      "b          int     10\n",
      "c          int     7\n",
      "colors     list    n=5\n",
      "dicto      dict    n=3\n",
      "i          int     6\n",
      "invites    list    n=3\n",
      "list       list    n=0\n",
      "nom        str     Falite\n"
     ]
    }
   ],
   "source": [
    "whos"
   ]
  },
  {
   "cell_type": "code",
   "execution_count": null,
   "id": "2dfbf591-1fb5-4607-9ccd-73fb9497c596",
   "metadata": {},
   "outputs": [],
   "source": []
  }
 ],
 "metadata": {
  "kernelspec": {
   "display_name": "Python 3 (ipykernel)",
   "language": "python",
   "name": "python3"
  },
  "language_info": {
   "codemirror_mode": {
    "name": "ipython",
    "version": 3
   },
   "file_extension": ".py",
   "mimetype": "text/x-python",
   "name": "python",
   "nbconvert_exporter": "python",
   "pygments_lexer": "ipython3",
   "version": "3.11.5"
  }
 },
 "nbformat": 4,
 "nbformat_minor": 5
}
