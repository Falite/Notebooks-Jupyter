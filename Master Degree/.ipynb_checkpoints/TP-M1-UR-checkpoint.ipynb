{
 "cells": [
  {
   "cell_type": "code",
   "execution_count": 2,
   "metadata": {},
   "outputs": [],
   "source": [
    "import numpy as np\n",
    "import matplotlib.pyplot as plt\n",
    "import scipy.stats as sps"
   ]
  },
  {
   "cell_type": "code",
   "execution_count": null,
   "metadata": {},
   "outputs": [],
   "source": [
    "np.random.rand(n)"
   ]
  },
  {
   "cell_type": "code",
   "execution_count": null,
   "metadata": {},
   "outputs": [],
   "source": []
  },
  {
   "cell_type": "markdown",
   "metadata": {},
   "source": [
    "Illustration la Loi des Grands Nombres: $$ S_{n} =\\sum_{i=1} X_{i}$$ avec X_i de loi uniforme sur $[-1,1]$\n",
    "Calculer l'espérance (ici =0) "
   ]
  },
  {
   "cell_type": "code",
   "execution_count": null,
   "metadata": {},
   "outputs": [],
   "source": []
  },
  {
   "cell_type": "code",
   "execution_count": null,
   "metadata": {},
   "outputs": [],
   "source": [
    "n=int(1e10)\n",
    "X=2*np.random.rand(n)-1 #génère un tableau n de nombres uniformes entre -1 et 1.\n",
    "S=np.cumsum(X)/np.arange(1,n+1)\n",
    "plt.plot(range(1,n+1),S,'r',label=\"S_n\")\n",
    "plt.plot((1,n),(0,0),\"b\",label=\"Espérance\")\n",
    "plt.xlabel(\"n\")\n",
    "plt.legend(loc='best')\n",
    "plt.title(\"Loi des Grands Nombres\")\n",
    "plt.show()"
   ]
  },
  {
   "cell_type": "markdown",
   "metadata": {},
   "source": [
    "Faire de même avec des variables aléatoires Yi de loi de Cauchy.\n",
    "$$ Yi=tan(πXi/2)$$ avec $X_i$ de loi uniforme sur [-1,1]\n",
    "\n",
    "La suite ∑Yi/n semble t-elle converger ? Pourquoi ?"
   ]
  },
  {
   "cell_type": "code",
   "execution_count": 16,
   "metadata": {},
   "outputs": [
    {
     "data": {
      "image/png": "[encoded data removed]",
      "text/plain": [
       "<Figure size 432x288 with 1 Axes>"
      ]
     },
     "metadata": {
      "needs_background": "light"
     },
     "output_type": "display_data"
    }
   ],
   "source": [
    "n=int(1e6)\n",
    "Y=np.tan(np.pi*.5*(2*np.random.rand(n)-1))\n",
    "S=np.cumsum(Y)/np.arange(1,n+1)\n",
    "plt.plot(range(1,int(n)+1),S,'r',label=\"S_n\")\n",
    "plt.plot((1,n),(0,0),\"b\",label=\"y=0\")\n",
    "plt.xlabel(\"n\")\n",
    "plt.legend(loc='best')\n",
    "plt.title(\"LGN pour v.a. de Cauchy ?\")\n",
    "plt.show()"
   ]
  },
  {
   "cell_type": "markdown",
   "metadata": {},
   "source": [
    "Calculer la moyenne μ et l'écart-type σ des Xi et vérifier, afin d'illustrer le Théorème Central Limite, que $\\sqrt{n}(S_n - \\mu)/\\sigma$  converge en loi  vers une loi normale centrée réduite  : on se fixera une grande valeur de n, on simulera un grand nombre de fois $\\sqrt{n}(S_n - \\mu)/\\sigma$ on en tracera l'histogramme et on le comparera à la densité d'une gaussienne standard.\n",
    "\n",
    "Le choix d'un tableau de taille $n\\times m$ est essentiel pour simuler efficacement le théorème central limite (TCL) en générant plusieurs réalisations indépendantes des sommes normalisées de variables aléatoires uniformes. \n",
    "\n",
    "n (le nombre de variables par somme) : Il représente la taille de chaque échantillon (le nombre de variables indépendantes $X_i$ que l'on somme).\n",
    "m (le nombre d'échantillons indépendants) : Il représente le nombre de fois que nous répétons cette expérience de somme pour obtenir une distribution empirique.\n",
    "\n",
    "Indication : pour x un tableau bidimensionnel de taille n×m, np.sum(x,axis=1) donne le tableau unidimensionnel de taille n dont les coordonnées sont les sommes des lignes de x.\n",
    "\n",
    "\n"
   ]
  },
  {
   "cell_type": "code",
   "execution_count": 3,
   "metadata": {},
   "outputs": [
    {
     "data": {
      "image/png": "[encoded data removed]",
      "text/plain": [
       "<Figure size 432x288 with 1 Axes>"
      ]
     },
     "metadata": {
      "needs_background": "light"
     },
     "output_type": "display_data"
    }
   ],
   "source": [
    "n,m=int(1e4),int(1e4) #n : le nombre de variables dans chaque somme.\n",
    "#m=le nombre d'échantillons générés.\n",
    "sigma=3**(-.5)\n",
    "X=2*np.random.rand(n,m)-1 #génère un tableau n×mn×m de nombres uniformes entre -1 et 1.\n",
    "S=np.sum(X,axis=1)/(np.sqrt(n)*sigma) # calcule la somme des n variables aléatoires\n",
    "#pour chaque échantillon (on obtient un tableau de taille (m,)).\n",
    "M=max(np.abs(S))\n",
    "x=np.linspace(-M,M,1000)\n",
    "y=sps.norm.pdf(x) # Densité de la loi normale standard\n",
    "plt.plot(x,y,'r',label=\"Densite gaussienne standard\")\n",
    "plt.hist(S,density=1,histtype='step',label=\"Histogramme\")\n",
    "plt.legend(loc='best'),plt.title(\"TCL\")\n",
    "plt.show()"
   ]
  },
  {
   "cell_type": "code",
   "execution_count": 6,
   "metadata": {},
   "outputs": [
    {
     "name": "stderr",
     "output_type": "stream",
     "text": [
      "/opt/anaconda3/lib/python3.8/site-packages/pandas/core/computation/expressions.py:20: UserWarning: Pandas requires version '2.7.3' or newer of 'numexpr' (version '2.7.1' currently installed).\n",
      "  from pandas.core.computation.check import NUMEXPR_INSTALLED\n"
     ]
    }
   ],
   "source": [
    "import pandas as pd"
   ]
  },
  {
   "cell_type": "code",
   "execution_count": 3,
   "metadata": {},
   "outputs": [],
   "source": [
    "import random"
   ]
  },
  {
   "cell_type": "code",
   "execution_count": 29,
   "metadata": {},
   "outputs": [
    {
     "data": {
      "text/plain": [
       "0.27604414970026625"
      ]
     },
     "execution_count": 29,
     "metadata": {},
     "output_type": "execute_result"
    }
   ],
   "source": [
    "random.random() "
   ]
  },
  {
   "cell_type": "code",
   "execution_count": 30,
   "metadata": {},
   "outputs": [],
   "source": [
    "def bernoulli(p):\n",
    "    return 1 if random.random() < p else 0\n"
   ]
  },
  {
   "cell_type": "code",
   "execution_count": 32,
   "metadata": {},
   "outputs": [
    {
     "data": {
      "text/plain": [
       "1"
      ]
     },
     "execution_count": 32,
     "metadata": {},
     "output_type": "execute_result"
    }
   ],
   "source": [
    "bernoulli(0.3)"
   ]
  },
  {
   "cell_type": "code",
   "execution_count": 35,
   "metadata": {},
   "outputs": [
    {
     "name": "stdout",
     "output_type": "stream",
     "text": [
      "[1, 1, 1, 1, 0, 0, 0, 1, 1, 1, 1, 1, 0, 1, 0, 1, 0, 0, 0, 0, 1, 0, 0, 0, 1, 1, 0, 0, 0, 0, 1, 1, 0, 0, 1, 1, 1, 0, 1, 1, 0, 0, 0, 1, 1, 0, 0, 1, 1, 1, 0, 1, 0, 0, 1, 1, 0, 0, 1, 0, 0, 1, 1, 1, 0, 1, 0, 0, 0, 0, 1, 1, 0, 1, 0, 0, 0, 0, 0, 1, 0, 0, 0, 0, 1, 1, 1, 1, 0, 1, 1, 0, 1, 0, 1, 1, 1, 1, 1, 0]\n"
     ]
    }
   ],
   "source": [
    "def bernoulli(p, n):\n",
    "    return [1 if random.random() < p else 0 for _ in range(n)]\n",
    "\n",
    "# Exemple d'utilisation\n",
    "variables = bernoulli(0.5, 100)  # Générer 10 variables de Bernoulli avec p = 0.5\n",
    "print(variables)"
   ]
  },
  {
   "cell_type": "code",
   "execution_count": 18,
   "metadata": {},
   "outputs": [],
   "source": [
    "def binomial(n, p):\n",
    "    return sum(bernoulli(p) for _ in range(n))\n"
   ]
  },
  {
   "cell_type": "code",
   "execution_count": 19,
   "metadata": {},
   "outputs": [
    {
     "data": {
      "text/plain": [
       "1"
      ]
     },
     "execution_count": 19,
     "metadata": {},
     "output_type": "execute_result"
    }
   ],
   "source": [
    " binomial(10, 0.5)"
   ]
  },
  {
   "cell_type": "code",
   "execution_count": 22,
   "metadata": {},
   "outputs": [
    {
     "name": "stdout",
     "output_type": "stream",
     "text": [
      "[2, 5, 5, 7, 5]\n"
     ]
    }
   ],
   "source": [
    "def binomial(n, p, m=1):\n",
    "    return [sum(bernoulli(p, n)) for _ in range(m)]\n",
    "\n",
    "# Exemple d'utilisation\n",
    "samples = binomial(10, 0.5, 5)  # Générer 5 réalisations d'une loi binomiale B(10, 0.5)\n",
    "print(samples)\n"
   ]
  },
  {
   "cell_type": "markdown",
   "metadata": {},
   "source": [
    "Un calcul simple montre que lorsque n tend vers l’infini, la loi de binomiale B(n,λ/n)\n",
    "tend vers la loi de Poisson de paramètre λ. En pratique, on assimile B(n,p) à la loi \n",
    "de Poisson de paramètre np dès que $np^2<0.1$\n",
    "\n",
    "Illustrer cette proximité de lois en affichant, sur le même graphique, leurs histogrammes en bâtons\n",
    "(sans faire aucune simulation).\n",
    "\n",
    "Indication : les fonctions sps.poisson.pmf et sps.binom.pmf donnent les probabilités\n",
    "associées aux différentes valeurs que peuvent prendre des variables aléatoires de loi\n",
    "de Poisson et de loi binomiale, la fonction plt.stem(x, y) affiche des barres \n",
    "verticales d’abs. x et hauteur y."
   ]
  },
  {
   "cell_type": "code",
   "execution_count": 27,
   "metadata": {},
   "outputs": [
    {
     "name": "stdout",
     "output_type": "stream",
     "text": [
      "n * p^2 = 0.025\n"
     ]
    },
    {
     "data": {
      "image/png": "[encoded data removed]",
      "text/plain": [
       "<Figure size 432x288 with 1 Axes>"
      ]
     },
     "metadata": {
      "needs_background": "light"
     },
     "output_type": "display_data"
    }
   ],
   "source": [
    "n = 1000\n",
    "p = 0.005\n",
    "lambd= p * n\n",
    "print(\"n * p^2 =\", n*p*p)\n",
    "\n",
    "x = np.arange(0, 7*lambd)\n",
    "distrib_poisson = sps.poisson.pmf(x, lambd)\n",
    "distrib_binom = sps.binom.pmf(x, n, p) \n",
    "\n",
    "plt.stem(x, distrib_poisson, label=\"Poisson\",markerfmt='b.', basefmt=\"b\")\n",
    "plt.stem(x + 0.3, distrib_binom, \"r\", markerfmt='r.',  label=\"binomiale\")\n",
    "plt.legend()\n",
    "plt.show()"
   ]
  },
  {
   "cell_type": "code",
   "execution_count": null,
   "metadata": {},
   "outputs": [],
   "source": []
  }
 ],
 "metadata": {
  "kernelspec": {
   "display_name": "Python 3",
   "language": "python",
   "name": "python3"
  },
  "language_info": {
   "codemirror_mode": {
    "name": "ipython",
    "version": 3
   },
   "file_extension": ".py",
   "mimetype": "text/x-python",
   "name": "python",
   "nbconvert_exporter": "python",
   "pygments_lexer": "ipython3",
   "version": "3.8.5"
  }
 },
 "nbformat": 4,
 "nbformat_minor": 4
}
