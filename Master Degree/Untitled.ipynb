{
 "cells": [
  {
   "cell_type": "code",
   "execution_count": 1,
   "id": "95566c1e-b63c-4563-883f-46365cee05d7",
   "metadata": {},
   "outputs": [],
   "source": [
    "import numpy as np\n",
    "import matplotlib.pyplot as plt"
   ]
  },
  {
   "cell_type": "markdown",
   "id": "62394929-556e-4adb-9057-a05443ea345e",
   "metadata": {},
   "source": [
    "## Exercice 1\n",
    "On veut coder $f_n: \\mathbb R \\rightarrow \\mathbb R $                 \n",
    "par $\\forall n \\in \\mathbb N \\backslash \\{ 0 \\} $ :              \n",
    "si $x \\in ] - \\infty , 0 ] \\cup \\Big[ \\frac 2n , + \\infty[$ alors $f_n(x)=0$,               \n",
    "sinon $ x \\in ]0,\\frac 1n ]$ alors $f_n(x)=n x$ et $x \\in ]\\frac 1n , \\frac 2n[ $ alors $f_n(x)=-nx$"
   ]
  },
  {
   "cell_type": "code",
   "execution_count": null,
   "id": "fad1ee59-2736-4416-9095-79531e334a3d",
   "metadata": {},
   "outputs": [],
   "source": []
  }
 ],
 "metadata": {
  "kernelspec": {
   "display_name": "Python 3 (ipykernel)",
   "language": "python",
   "name": "python3"
  },
  "language_info": {
   "codemirror_mode": {
    "name": "ipython",
    "version": 3
   },
   "file_extension": ".py",
   "mimetype": "text/x-python",
   "name": "python",
   "nbconvert_exporter": "python",
   "pygments_lexer": "ipython3",
   "version": "3.12.1"
  }
 },
 "nbformat": 4,
 "nbformat_minor": 5
}
